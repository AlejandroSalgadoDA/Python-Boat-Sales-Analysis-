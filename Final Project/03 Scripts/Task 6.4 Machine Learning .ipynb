{
 "cells": [
  {
   "cell_type": "markdown",
   "id": "988d29cd",
   "metadata": {},
   "source": [
    "# Table of Contents\n",
    "## 1 Import Libraries and Data\n",
    "## 2 Data Cleaning \n",
    "## 3 Data Prep for Regression Analysis \n",
    "## 4 Regression Analysis "
   ]
  },
  {
   "cell_type": "markdown",
   "id": "dfd5cd1c",
   "metadata": {},
   "source": [
    "# 1 Import Libraries and Data"
   ]
  },
  {
   "cell_type": "code",
   "execution_count": 40,
   "id": "5a522cb5",
   "metadata": {},
   "outputs": [],
   "source": [
    "import pandas as pd\n",
    "import numpy as np\n",
    "import seaborn as sns\n",
    "import matplotlib\n",
    "import matplotlib.pyplot as plt\n",
    "import os\n",
    "import sklearn\n",
    "from sklearn.model_selection import train_test_split \n",
    "from sklearn.linear_model import LinearRegression\n",
    "from sklearn.metrics import mean_squared_error, r2_score"
   ]
  },
  {
   "cell_type": "code",
   "execution_count": 41,
   "id": "1e329288",
   "metadata": {},
   "outputs": [],
   "source": [
    "# This option ensures that the graphs you create are displayed within the notebook without the need to \"call\" them specifically.\n",
    "\n",
    "%matplotlib inline"
   ]
  },
  {
   "cell_type": "code",
   "execution_count": 42,
   "id": "67cc77f5",
   "metadata": {},
   "outputs": [],
   "source": [
    "# Create a path\n",
    "path = r'/Users/alejandrosalgado/Desktop/Final Project'"
   ]
  },
  {
   "cell_type": "code",
   "execution_count": 43,
   "id": "92389d90",
   "metadata": {},
   "outputs": [],
   "source": [
    "# Load data\n",
    "df = pd.read_pickle(r'/Users/alejandrosalgado/Desktop/Final Project/Boat_Orders_clean_2.pkl')"
   ]
  },
  {
   "cell_type": "code",
   "execution_count": 44,
   "id": "bafdf1b7",
   "metadata": {},
   "outputs": [
    {
     "data": {
      "text/plain": [
       "(6001, 12)"
      ]
     },
     "execution_count": 44,
     "metadata": {},
     "output_type": "execute_result"
    }
   ],
   "source": [
    "df.shape"
   ]
  },
  {
   "cell_type": "code",
   "execution_count": 45,
   "id": "11b8012d",
   "metadata": {},
   "outputs": [
    {
     "data": {
      "text/html": [
       "<div>\n",
       "<style scoped>\n",
       "    .dataframe tbody tr th:only-of-type {\n",
       "        vertical-align: middle;\n",
       "    }\n",
       "\n",
       "    .dataframe tbody tr th {\n",
       "        vertical-align: top;\n",
       "    }\n",
       "\n",
       "    .dataframe thead th {\n",
       "        text-align: right;\n",
       "    }\n",
       "</style>\n",
       "<table border=\"1\" class=\"dataframe\">\n",
       "  <thead>\n",
       "    <tr style=\"text-align: right;\">\n",
       "      <th></th>\n",
       "      <th>Boat Type</th>\n",
       "      <th>Manufacturer</th>\n",
       "      <th>Type</th>\n",
       "      <th>Year Built</th>\n",
       "      <th>Length</th>\n",
       "      <th>Width</th>\n",
       "      <th>Material</th>\n",
       "      <th>Number of views last 7 days</th>\n",
       "      <th>Country</th>\n",
       "      <th>City</th>\n",
       "      <th>USD_price</th>\n",
       "      <th>Pricing Category</th>\n",
       "    </tr>\n",
       "  </thead>\n",
       "  <tbody>\n",
       "    <tr>\n",
       "      <th>0</th>\n",
       "      <td>Center console boat</td>\n",
       "      <td>Terhi power boats</td>\n",
       "      <td>new boat from stock</td>\n",
       "      <td>2020</td>\n",
       "      <td>4.00</td>\n",
       "      <td>1.50</td>\n",
       "      <td>Thermoplastic</td>\n",
       "      <td>75</td>\n",
       "      <td>Germany</td>\n",
       "      <td>BÃ¶nningstedt</td>\n",
       "      <td>3699.40</td>\n",
       "      <td>Low-priced</td>\n",
       "    </tr>\n",
       "    <tr>\n",
       "      <th>1</th>\n",
       "      <td>Fishing Boat</td>\n",
       "      <td>Linder power boats</td>\n",
       "      <td>new boat from stock</td>\n",
       "      <td>2019</td>\n",
       "      <td>3.55</td>\n",
       "      <td>1.46</td>\n",
       "      <td>Aluminium</td>\n",
       "      <td>58</td>\n",
       "      <td>Germany</td>\n",
       "      <td>Bayern</td>\n",
       "      <td>3602.94</td>\n",
       "      <td>Low-priced</td>\n",
       "    </tr>\n",
       "    <tr>\n",
       "      <th>2</th>\n",
       "      <td>Fishing Boat</td>\n",
       "      <td>Terhi power boats</td>\n",
       "      <td>Used boat,Electric</td>\n",
       "      <td>1987</td>\n",
       "      <td>4.35</td>\n",
       "      <td>1.75</td>\n",
       "      <td>GRP</td>\n",
       "      <td>239</td>\n",
       "      <td>Switzerland</td>\n",
       "      <td>Seengen</td>\n",
       "      <td>3780.00</td>\n",
       "      <td>Low-priced</td>\n",
       "    </tr>\n",
       "    <tr>\n",
       "      <th>3</th>\n",
       "      <td>Sport Boat</td>\n",
       "      <td>GS Nautica power boats</td>\n",
       "      <td>Used boat</td>\n",
       "      <td>2004</td>\n",
       "      <td>4.70</td>\n",
       "      <td>2.00</td>\n",
       "      <td>GRP</td>\n",
       "      <td>69</td>\n",
       "      <td>Italy</td>\n",
       "      <td>Lake Garda</td>\n",
       "      <td>3710.00</td>\n",
       "      <td>Low-priced</td>\n",
       "    </tr>\n",
       "    <tr>\n",
       "      <th>4</th>\n",
       "      <td>Runabout</td>\n",
       "      <td>Kimple power boats</td>\n",
       "      <td>new boat from stock</td>\n",
       "      <td>2020</td>\n",
       "      <td>4.40</td>\n",
       "      <td>1.65</td>\n",
       "      <td>Aluminium</td>\n",
       "      <td>113</td>\n",
       "      <td>Switzerland</td>\n",
       "      <td>Zugersee</td>\n",
       "      <td>4968.00</td>\n",
       "      <td>Low-priced</td>\n",
       "    </tr>\n",
       "  </tbody>\n",
       "</table>\n",
       "</div>"
      ],
      "text/plain": [
       "             Boat Type            Manufacturer                 Type  \\\n",
       "0  Center console boat       Terhi power boats  new boat from stock   \n",
       "1         Fishing Boat      Linder power boats  new boat from stock   \n",
       "2         Fishing Boat       Terhi power boats   Used boat,Electric   \n",
       "3           Sport Boat  GS Nautica power boats            Used boat   \n",
       "4             Runabout      Kimple power boats  new boat from stock   \n",
       "\n",
       "   Year Built  Length  Width       Material  Number of views last 7 days  \\\n",
       "0        2020    4.00   1.50  Thermoplastic                           75   \n",
       "1        2019    3.55   1.46      Aluminium                           58   \n",
       "2        1987    4.35   1.75            GRP                          239   \n",
       "3        2004    4.70   2.00            GRP                           69   \n",
       "4        2020    4.40   1.65      Aluminium                          113   \n",
       "\n",
       "        Country            City  USD_price Pricing Category  \n",
       "0      Germany    BÃ¶nningstedt    3699.40       Low-priced  \n",
       "1      Germany          Bayern     3602.94       Low-priced  \n",
       "2  Switzerland          Seengen    3780.00       Low-priced  \n",
       "3        Italy      Lake Garda     3710.00       Low-priced  \n",
       "4  Switzerland        Zugersee     4968.00       Low-priced  "
      ]
     },
     "execution_count": 45,
     "metadata": {},
     "output_type": "execute_result"
    }
   ],
   "source": [
    "df.head()"
   ]
  },
  {
   "cell_type": "code",
   "execution_count": 46,
   "id": "5ff16552",
   "metadata": {},
   "outputs": [
    {
     "data": {
      "text/html": [
       "<div>\n",
       "<style scoped>\n",
       "    .dataframe tbody tr th:only-of-type {\n",
       "        vertical-align: middle;\n",
       "    }\n",
       "\n",
       "    .dataframe tbody tr th {\n",
       "        vertical-align: top;\n",
       "    }\n",
       "\n",
       "    .dataframe thead th {\n",
       "        text-align: right;\n",
       "    }\n",
       "</style>\n",
       "<table border=\"1\" class=\"dataframe\">\n",
       "  <thead>\n",
       "    <tr style=\"text-align: right;\">\n",
       "      <th></th>\n",
       "      <th>Boat Type</th>\n",
       "      <th>Manufacturer</th>\n",
       "      <th>Type</th>\n",
       "      <th>Year Built</th>\n",
       "      <th>Length</th>\n",
       "      <th>Width</th>\n",
       "      <th>Material</th>\n",
       "      <th>Number of views last 7 days</th>\n",
       "      <th>Country</th>\n",
       "      <th>City</th>\n",
       "      <th>USD_price</th>\n",
       "      <th>Pricing Category</th>\n",
       "    </tr>\n",
       "  </thead>\n",
       "  <tbody>\n",
       "    <tr>\n",
       "      <th>0</th>\n",
       "      <td>Center console boat</td>\n",
       "      <td>Terhi power boats</td>\n",
       "      <td>new boat from stock</td>\n",
       "      <td>2020</td>\n",
       "      <td>4.00</td>\n",
       "      <td>1.50</td>\n",
       "      <td>Thermoplastic</td>\n",
       "      <td>75</td>\n",
       "      <td>Germany</td>\n",
       "      <td>BÃ¶nningstedt</td>\n",
       "      <td>3699.40</td>\n",
       "      <td>Low-priced</td>\n",
       "    </tr>\n",
       "    <tr>\n",
       "      <th>1</th>\n",
       "      <td>Fishing Boat</td>\n",
       "      <td>Linder power boats</td>\n",
       "      <td>new boat from stock</td>\n",
       "      <td>2019</td>\n",
       "      <td>3.55</td>\n",
       "      <td>1.46</td>\n",
       "      <td>Aluminium</td>\n",
       "      <td>58</td>\n",
       "      <td>Germany</td>\n",
       "      <td>Bayern</td>\n",
       "      <td>3602.94</td>\n",
       "      <td>Low-priced</td>\n",
       "    </tr>\n",
       "    <tr>\n",
       "      <th>2</th>\n",
       "      <td>Fishing Boat</td>\n",
       "      <td>Terhi power boats</td>\n",
       "      <td>Used boat,Electric</td>\n",
       "      <td>1987</td>\n",
       "      <td>4.35</td>\n",
       "      <td>1.75</td>\n",
       "      <td>GRP</td>\n",
       "      <td>239</td>\n",
       "      <td>Switzerland</td>\n",
       "      <td>Seengen</td>\n",
       "      <td>3780.00</td>\n",
       "      <td>Low-priced</td>\n",
       "    </tr>\n",
       "    <tr>\n",
       "      <th>3</th>\n",
       "      <td>Sport Boat</td>\n",
       "      <td>GS Nautica power boats</td>\n",
       "      <td>Used boat</td>\n",
       "      <td>2004</td>\n",
       "      <td>4.70</td>\n",
       "      <td>2.00</td>\n",
       "      <td>GRP</td>\n",
       "      <td>69</td>\n",
       "      <td>Italy</td>\n",
       "      <td>Lake Garda</td>\n",
       "      <td>3710.00</td>\n",
       "      <td>Low-priced</td>\n",
       "    </tr>\n",
       "    <tr>\n",
       "      <th>4</th>\n",
       "      <td>Runabout</td>\n",
       "      <td>Kimple power boats</td>\n",
       "      <td>new boat from stock</td>\n",
       "      <td>2020</td>\n",
       "      <td>4.40</td>\n",
       "      <td>1.65</td>\n",
       "      <td>Aluminium</td>\n",
       "      <td>113</td>\n",
       "      <td>Switzerland</td>\n",
       "      <td>Zugersee</td>\n",
       "      <td>4968.00</td>\n",
       "      <td>Low-priced</td>\n",
       "    </tr>\n",
       "    <tr>\n",
       "      <th>...</th>\n",
       "      <td>...</td>\n",
       "      <td>...</td>\n",
       "      <td>...</td>\n",
       "      <td>...</td>\n",
       "      <td>...</td>\n",
       "      <td>...</td>\n",
       "      <td>...</td>\n",
       "      <td>...</td>\n",
       "      <td>...</td>\n",
       "      <td>...</td>\n",
       "      <td>...</td>\n",
       "      <td>...</td>\n",
       "    </tr>\n",
       "    <tr>\n",
       "      <th>5996</th>\n",
       "      <td>Cabin Boat</td>\n",
       "      <td>Princess power boats</td>\n",
       "      <td>Used boat</td>\n",
       "      <td>1974</td>\n",
       "      <td>7.20</td>\n",
       "      <td>2.70</td>\n",
       "      <td>GRP</td>\n",
       "      <td>1299</td>\n",
       "      <td>Switzerland</td>\n",
       "      <td>Rhein</td>\n",
       "      <td>5400.00</td>\n",
       "      <td>Low-priced</td>\n",
       "    </tr>\n",
       "    <tr>\n",
       "      <th>5997</th>\n",
       "      <td>Sport Boat,Wakeboard/Wakesurf,Water ski</td>\n",
       "      <td>Tullio Abbate power boats</td>\n",
       "      <td>Used boat,Unleaded</td>\n",
       "      <td>1980</td>\n",
       "      <td>6.00</td>\n",
       "      <td>2.10</td>\n",
       "      <td>GRP</td>\n",
       "      <td>1917</td>\n",
       "      <td>Switzerland</td>\n",
       "      <td>Lake of Zurich</td>\n",
       "      <td>5398.92</td>\n",
       "      <td>Low-priced</td>\n",
       "    </tr>\n",
       "    <tr>\n",
       "      <th>5998</th>\n",
       "      <td>Fishing Boat</td>\n",
       "      <td>Staempfli power boats</td>\n",
       "      <td>Used boat,Unleaded</td>\n",
       "      <td>1984</td>\n",
       "      <td>6.00</td>\n",
       "      <td>1.62</td>\n",
       "      <td>Plastic</td>\n",
       "      <td>288</td>\n",
       "      <td>Switzerland</td>\n",
       "      <td>Bielersee</td>\n",
       "      <td>5346.00</td>\n",
       "      <td>Low-priced</td>\n",
       "    </tr>\n",
       "    <tr>\n",
       "      <th>5999</th>\n",
       "      <td>Sport Boat</td>\n",
       "      <td>BlueCraft power boats</td>\n",
       "      <td>new boat from stock,Unleaded</td>\n",
       "      <td>2020</td>\n",
       "      <td>4.40</td>\n",
       "      <td>1.80</td>\n",
       "      <td>GRP</td>\n",
       "      <td>354</td>\n",
       "      <td>Germany</td>\n",
       "      <td>Nordrhein-Westfalen</td>\n",
       "      <td>4768.94</td>\n",
       "      <td>Low-priced</td>\n",
       "    </tr>\n",
       "    <tr>\n",
       "      <th>6000</th>\n",
       "      <td>Fishing Boat</td>\n",
       "      <td>DarekCo power boats</td>\n",
       "      <td>new boat from stock</td>\n",
       "      <td>2019</td>\n",
       "      <td>3.60</td>\n",
       "      <td>1.60</td>\n",
       "      <td>GRP</td>\n",
       "      <td>194</td>\n",
       "      <td>Switzerland</td>\n",
       "      <td>Brienzersee</td>\n",
       "      <td>4082.40</td>\n",
       "      <td>Low-priced</td>\n",
       "    </tr>\n",
       "  </tbody>\n",
       "</table>\n",
       "<p>6001 rows × 12 columns</p>\n",
       "</div>"
      ],
      "text/plain": [
       "                                    Boat Type               Manufacturer  \\\n",
       "0                         Center console boat          Terhi power boats   \n",
       "1                                Fishing Boat         Linder power boats   \n",
       "2                                Fishing Boat          Terhi power boats   \n",
       "3                                  Sport Boat     GS Nautica power boats   \n",
       "4                                    Runabout         Kimple power boats   \n",
       "...                                       ...                        ...   \n",
       "5996                               Cabin Boat       Princess power boats   \n",
       "5997  Sport Boat,Wakeboard/Wakesurf,Water ski  Tullio Abbate power boats   \n",
       "5998                             Fishing Boat      Staempfli power boats   \n",
       "5999                               Sport Boat      BlueCraft power boats   \n",
       "6000                             Fishing Boat        DarekCo power boats   \n",
       "\n",
       "                              Type  Year Built  Length  Width       Material  \\\n",
       "0              new boat from stock        2020    4.00   1.50  Thermoplastic   \n",
       "1              new boat from stock        2019    3.55   1.46      Aluminium   \n",
       "2               Used boat,Electric        1987    4.35   1.75            GRP   \n",
       "3                        Used boat        2004    4.70   2.00            GRP   \n",
       "4              new boat from stock        2020    4.40   1.65      Aluminium   \n",
       "...                            ...         ...     ...    ...            ...   \n",
       "5996                     Used boat        1974    7.20   2.70            GRP   \n",
       "5997            Used boat,Unleaded        1980    6.00   2.10            GRP   \n",
       "5998            Used boat,Unleaded        1984    6.00   1.62        Plastic   \n",
       "5999  new boat from stock,Unleaded        2020    4.40   1.80            GRP   \n",
       "6000           new boat from stock        2019    3.60   1.60            GRP   \n",
       "\n",
       "      Number of views last 7 days       Country                   City  \\\n",
       "0                              75      Germany           BÃ¶nningstedt   \n",
       "1                              58      Germany                 Bayern    \n",
       "2                             239  Switzerland                 Seengen   \n",
       "3                              69        Italy             Lake Garda    \n",
       "4                             113  Switzerland               Zugersee    \n",
       "...                           ...           ...                    ...   \n",
       "5996                         1299  Switzerland                  Rhein    \n",
       "5997                         1917  Switzerland         Lake of Zurich    \n",
       "5998                          288  Switzerland              Bielersee    \n",
       "5999                          354      Germany    Nordrhein-Westfalen    \n",
       "6000                          194  Switzerland            Brienzersee    \n",
       "\n",
       "      USD_price Pricing Category  \n",
       "0       3699.40       Low-priced  \n",
       "1       3602.94       Low-priced  \n",
       "2       3780.00       Low-priced  \n",
       "3       3710.00       Low-priced  \n",
       "4       4968.00       Low-priced  \n",
       "...         ...              ...  \n",
       "5996    5400.00       Low-priced  \n",
       "5997    5398.92       Low-priced  \n",
       "5998    5346.00       Low-priced  \n",
       "5999    4768.94       Low-priced  \n",
       "6000    4082.40       Low-priced  \n",
       "\n",
       "[6001 rows x 12 columns]"
      ]
     },
     "execution_count": 46,
     "metadata": {},
     "output_type": "execute_result"
    }
   ],
   "source": [
    "df"
   ]
  },
  {
   "cell_type": "markdown",
   "id": "71749fb6",
   "metadata": {},
   "source": [
    "# 2 Data Cleaning "
   ]
  },
  {
   "cell_type": "code",
   "execution_count": 8,
   "id": "342dbcfb",
   "metadata": {},
   "outputs": [
    {
     "data": {
      "text/plain": [
       "Index(['Boat Type', 'Manufacturer', 'Type', 'Year Built', 'Length', 'Width',\n",
       "       'Material', 'Number of views last 7 days', 'Country', 'City',\n",
       "       'USD_price', 'Pricing Category'],\n",
       "      dtype='object')"
      ]
     },
     "execution_count": 8,
     "metadata": {},
     "output_type": "execute_result"
    }
   ],
   "source": [
    "df.columns"
   ]
  },
  {
   "cell_type": "code",
   "execution_count": 9,
   "id": "193f232c",
   "metadata": {},
   "outputs": [],
   "source": [
    "# Rename the columns\n",
    "df.rename(columns = {'Number of views last 7 days':'7days_views'}, inplace = True)"
   ]
  },
  {
   "cell_type": "code",
   "execution_count": 10,
   "id": "dc15c27a",
   "metadata": {},
   "outputs": [
    {
     "data": {
      "text/plain": [
       "Boat Type           0\n",
       "Manufacturer        0\n",
       "Type                0\n",
       "Year Built          0\n",
       "Length              0\n",
       "Width               0\n",
       "Material            0\n",
       "7days_views         0\n",
       "Country             0\n",
       "City                0\n",
       "USD_price           0\n",
       "Pricing Category    0\n",
       "dtype: int64"
      ]
     },
     "execution_count": 10,
     "metadata": {},
     "output_type": "execute_result"
    }
   ],
   "source": [
    "# Check for missing values\n",
    "df.isnull().sum()"
   ]
  },
  {
   "cell_type": "code",
   "execution_count": 11,
   "id": "5876a173",
   "metadata": {},
   "outputs": [],
   "source": [
    "# check for duplicates\n",
    "dups = df.duplicated()"
   ]
  },
  {
   "cell_type": "code",
   "execution_count": 12,
   "id": "f3f654f1",
   "metadata": {},
   "outputs": [
    {
     "data": {
      "text/plain": [
       "(6001,)"
      ]
     },
     "execution_count": 12,
     "metadata": {},
     "output_type": "execute_result"
    }
   ],
   "source": [
    "dups.shape"
   ]
  },
  {
   "cell_type": "code",
   "execution_count": 13,
   "id": "9447e2de",
   "metadata": {},
   "outputs": [
    {
     "data": {
      "text/plain": [
       "(6001, 12)"
      ]
     },
     "execution_count": 13,
     "metadata": {},
     "output_type": "execute_result"
    }
   ],
   "source": [
    "df.shape"
   ]
  },
  {
   "cell_type": "code",
   "execution_count": 14,
   "id": "c3ed6685",
   "metadata": {},
   "outputs": [
    {
     "data": {
      "text/html": [
       "<div>\n",
       "<style scoped>\n",
       "    .dataframe tbody tr th:only-of-type {\n",
       "        vertical-align: middle;\n",
       "    }\n",
       "\n",
       "    .dataframe tbody tr th {\n",
       "        vertical-align: top;\n",
       "    }\n",
       "\n",
       "    .dataframe thead th {\n",
       "        text-align: right;\n",
       "    }\n",
       "</style>\n",
       "<table border=\"1\" class=\"dataframe\">\n",
       "  <thead>\n",
       "    <tr style=\"text-align: right;\">\n",
       "      <th></th>\n",
       "      <th>Boat Type</th>\n",
       "      <th>Manufacturer</th>\n",
       "      <th>Type</th>\n",
       "      <th>Year Built</th>\n",
       "      <th>Length</th>\n",
       "      <th>Width</th>\n",
       "      <th>Material</th>\n",
       "      <th>7days_views</th>\n",
       "      <th>Country</th>\n",
       "      <th>City</th>\n",
       "      <th>USD_price</th>\n",
       "      <th>Pricing Category</th>\n",
       "    </tr>\n",
       "  </thead>\n",
       "  <tbody>\n",
       "    <tr>\n",
       "      <th>0</th>\n",
       "      <td>Center console boat</td>\n",
       "      <td>Terhi power boats</td>\n",
       "      <td>new boat from stock</td>\n",
       "      <td>2020</td>\n",
       "      <td>4.00</td>\n",
       "      <td>1.50</td>\n",
       "      <td>Thermoplastic</td>\n",
       "      <td>75</td>\n",
       "      <td>Germany</td>\n",
       "      <td>BÃ¶nningstedt</td>\n",
       "      <td>3699.40</td>\n",
       "      <td>Low-priced</td>\n",
       "    </tr>\n",
       "    <tr>\n",
       "      <th>1</th>\n",
       "      <td>Fishing Boat</td>\n",
       "      <td>Linder power boats</td>\n",
       "      <td>new boat from stock</td>\n",
       "      <td>2019</td>\n",
       "      <td>3.55</td>\n",
       "      <td>1.46</td>\n",
       "      <td>Aluminium</td>\n",
       "      <td>58</td>\n",
       "      <td>Germany</td>\n",
       "      <td>Bayern</td>\n",
       "      <td>3602.94</td>\n",
       "      <td>Low-priced</td>\n",
       "    </tr>\n",
       "    <tr>\n",
       "      <th>2</th>\n",
       "      <td>Fishing Boat</td>\n",
       "      <td>Terhi power boats</td>\n",
       "      <td>Used boat,Electric</td>\n",
       "      <td>1987</td>\n",
       "      <td>4.35</td>\n",
       "      <td>1.75</td>\n",
       "      <td>GRP</td>\n",
       "      <td>239</td>\n",
       "      <td>Switzerland</td>\n",
       "      <td>Seengen</td>\n",
       "      <td>3780.00</td>\n",
       "      <td>Low-priced</td>\n",
       "    </tr>\n",
       "    <tr>\n",
       "      <th>3</th>\n",
       "      <td>Sport Boat</td>\n",
       "      <td>GS Nautica power boats</td>\n",
       "      <td>Used boat</td>\n",
       "      <td>2004</td>\n",
       "      <td>4.70</td>\n",
       "      <td>2.00</td>\n",
       "      <td>GRP</td>\n",
       "      <td>69</td>\n",
       "      <td>Italy</td>\n",
       "      <td>Lake Garda</td>\n",
       "      <td>3710.00</td>\n",
       "      <td>Low-priced</td>\n",
       "    </tr>\n",
       "    <tr>\n",
       "      <th>4</th>\n",
       "      <td>Runabout</td>\n",
       "      <td>Kimple power boats</td>\n",
       "      <td>new boat from stock</td>\n",
       "      <td>2020</td>\n",
       "      <td>4.40</td>\n",
       "      <td>1.65</td>\n",
       "      <td>Aluminium</td>\n",
       "      <td>113</td>\n",
       "      <td>Switzerland</td>\n",
       "      <td>Zugersee</td>\n",
       "      <td>4968.00</td>\n",
       "      <td>Low-priced</td>\n",
       "    </tr>\n",
       "  </tbody>\n",
       "</table>\n",
       "</div>"
      ],
      "text/plain": [
       "             Boat Type            Manufacturer                 Type  \\\n",
       "0  Center console boat       Terhi power boats  new boat from stock   \n",
       "1         Fishing Boat      Linder power boats  new boat from stock   \n",
       "2         Fishing Boat       Terhi power boats   Used boat,Electric   \n",
       "3           Sport Boat  GS Nautica power boats            Used boat   \n",
       "4             Runabout      Kimple power boats  new boat from stock   \n",
       "\n",
       "   Year Built  Length  Width       Material  7days_views       Country  \\\n",
       "0        2020    4.00   1.50  Thermoplastic           75      Germany    \n",
       "1        2019    3.55   1.46      Aluminium           58      Germany    \n",
       "2        1987    4.35   1.75            GRP          239  Switzerland    \n",
       "3        2004    4.70   2.00            GRP           69        Italy    \n",
       "4        2020    4.40   1.65      Aluminium          113  Switzerland    \n",
       "\n",
       "             City  USD_price Pricing Category  \n",
       "0   BÃ¶nningstedt    3699.40       Low-priced  \n",
       "1         Bayern     3602.94       Low-priced  \n",
       "2         Seengen    3780.00       Low-priced  \n",
       "3     Lake Garda     3710.00       Low-priced  \n",
       "4       Zugersee     4968.00       Low-priced  "
      ]
     },
     "execution_count": 14,
     "metadata": {},
     "output_type": "execute_result"
    }
   ],
   "source": [
    "df.head()"
   ]
  },
  {
   "cell_type": "markdown",
   "id": "717a1830",
   "metadata": {},
   "source": [
    "# Extreme Value Check"
   ]
  },
  {
   "cell_type": "code",
   "execution_count": 15,
   "id": "75af0e3c",
   "metadata": {},
   "outputs": [
    {
     "name": "stderr",
     "output_type": "stream",
     "text": [
      "/Users/alejandrosalgado/opt/anaconda3/lib/python3.9/site-packages/seaborn/distributions.py:2619: FutureWarning: `distplot` is a deprecated function and will be removed in a future version. Please adapt your code to use either `displot` (a figure-level function with similar flexibility) or `histplot` (an axes-level function for histograms).\n",
      "  warnings.warn(msg, FutureWarning)\n"
     ]
    },
    {
     "data": {
      "text/plain": [
       "<AxesSubplot:xlabel='Length', ylabel='Density'>"
      ]
     },
     "execution_count": 15,
     "metadata": {},
     "output_type": "execute_result"
    },
    {
     "data": {
      "image/png": "[encoded data removed]",
      "text/plain": [
       "<Figure size 432x288 with 1 Axes>"
      ]
     },
     "metadata": {
      "needs_background": "light"
     },
     "output_type": "display_data"
    }
   ],
   "source": [
    "# extreme value check\n",
    "sns.distplot(df['Length'], bins=30)"
   ]
  },
  {
   "cell_type": "code",
   "execution_count": 16,
   "id": "9b561423",
   "metadata": {},
   "outputs": [
    {
     "data": {
      "text/plain": [
       "10.834530911514786"
      ]
     },
     "execution_count": 16,
     "metadata": {},
     "output_type": "execute_result"
    }
   ],
   "source": [
    "# Check for mean\n",
    "df['Length'].mean()"
   ]
  },
  {
   "cell_type": "code",
   "execution_count": 17,
   "id": "af5fcf42",
   "metadata": {},
   "outputs": [
    {
     "data": {
      "text/plain": [
       "9.88"
      ]
     },
     "execution_count": 17,
     "metadata": {},
     "output_type": "execute_result"
    }
   ],
   "source": [
    "# Check for median\n",
    "df['Length'].median() "
   ]
  },
  {
   "cell_type": "code",
   "execution_count": 18,
   "id": "b0b567d4",
   "metadata": {},
   "outputs": [
    {
     "data": {
      "text/plain": [
       "56.0"
      ]
     },
     "execution_count": 18,
     "metadata": {},
     "output_type": "execute_result"
    }
   ],
   "source": [
    "# Check for max\n",
    "df['Length'].max() "
   ]
  },
  {
   "cell_type": "markdown",
   "id": "a82f649b",
   "metadata": {},
   "source": [
    "# 3. Data prep for Regression Analysis"
   ]
  },
  {
   "cell_type": "code",
   "execution_count": 20,
   "id": "845a5377",
   "metadata": {},
   "outputs": [
    {
     "data": {
      "image/png": "[encoded data removed]",
      "text/plain": [
       "<Figure size 432x288 with 1 Axes>"
      ]
     },
     "metadata": {
      "needs_background": "light"
     },
     "output_type": "display_data"
    }
   ],
   "source": [
    "# Create a scatterplot using matplotlib for another look at how the chosen variables plot against each other\n",
    "\n",
    "df.plot(x = 'Length', y='USD_price',style='o') # The style option creates a scatterplot; without it, we only have lines.\n",
    "plt.title('Length of boat vs Price')  \n",
    "plt.xlabel('Length')  \n",
    "plt.ylabel('Price in USD')  \n",
    "plt.show()"
   ]
  },
  {
   "cell_type": "code",
   "execution_count": 21,
   "id": "aa664c5b",
   "metadata": {},
   "outputs": [],
   "source": [
    "# Reshape the variables into NumPy arrays and put them into separate objects\n",
    "\n",
    "X = df['Length'].values.reshape(-1,1)\n",
    "y = df['USD_price'].values.reshape(-1,1)"
   ]
  },
  {
   "cell_type": "code",
   "execution_count": 23,
   "id": "aecb6f33",
   "metadata": {},
   "outputs": [
    {
     "data": {
      "text/plain": [
       "array([[4.  ],\n",
       "       [3.55],\n",
       "       [4.35],\n",
       "       ...,\n",
       "       [6.  ],\n",
       "       [4.4 ],\n",
       "       [3.6 ]])"
      ]
     },
     "execution_count": 23,
     "metadata": {},
     "output_type": "execute_result"
    }
   ],
   "source": [
    "X"
   ]
  },
  {
   "cell_type": "code",
   "execution_count": 24,
   "id": "0f6a9de1",
   "metadata": {},
   "outputs": [
    {
     "data": {
      "text/plain": [
       "array([[3699.4 ],\n",
       "       [3602.94],\n",
       "       [3780.  ],\n",
       "       ...,\n",
       "       [5346.  ],\n",
       "       [4768.94],\n",
       "       [4082.4 ]])"
      ]
     },
     "execution_count": 24,
     "metadata": {},
     "output_type": "execute_result"
    }
   ],
   "source": [
    "y"
   ]
  },
  {
   "cell_type": "code",
   "execution_count": 25,
   "id": "9261f19b",
   "metadata": {},
   "outputs": [],
   "source": [
    "# Split data into a training set and a test set\n",
    "\n",
    "X_train, X_test, y_train, y_test = train_test_split(X, y, test_size=0.3, random_state=0)"
   ]
  },
  {
   "cell_type": "markdown",
   "id": "e7393533",
   "metadata": {},
   "source": [
    "# Hypothesis"
   ]
  },
  {
   "cell_type": "markdown",
   "id": "3c2d71e8",
   "metadata": {},
   "source": [
    "## The higher the boat length, the higher the price"
   ]
  },
  {
   "cell_type": "markdown",
   "id": "9b1b9d70",
   "metadata": {},
   "source": [
    "# 4 Regression Analysis "
   ]
  },
  {
   "cell_type": "code",
   "execution_count": 26,
   "id": "4dab66ed",
   "metadata": {},
   "outputs": [],
   "source": [
    "# Create a regression object\n",
    "\n",
    "regression = LinearRegression() "
   ]
  },
  {
   "cell_type": "code",
   "execution_count": 27,
   "id": "b45170fa",
   "metadata": {},
   "outputs": [
    {
     "data": {
      "text/plain": [
       "LinearRegression()"
      ]
     },
     "execution_count": 27,
     "metadata": {},
     "output_type": "execute_result"
    }
   ],
   "source": [
    "# Fit the regression object onto the training set\n",
    "\n",
    "regression.fit(X_train, y_train)"
   ]
  },
  {
   "cell_type": "code",
   "execution_count": 28,
   "id": "d42fa2ce",
   "metadata": {},
   "outputs": [],
   "source": [
    "# Predict the values of y using X\n",
    "\n",
    "y_predicted = regression.predict(X_test)"
   ]
  },
  {
   "cell_type": "code",
   "execution_count": 30,
   "id": "6f021857",
   "metadata": {},
   "outputs": [
    {
     "data": {
      "image/png": "[encoded data removed]",
      "text/plain": [
       "<Figure size 432x288 with 1 Axes>"
      ]
     },
     "metadata": {
      "needs_background": "light"
     },
     "output_type": "display_data"
    }
   ],
   "source": [
    "# Create a plot that shows the regression line from the model on the test set\n",
    "\n",
    "plot_test = plt\n",
    "plot_test.scatter(X_test, y_test, color='gray', s = 15)\n",
    "plot_test.plot(X_test, y_predicted, color='red', linewidth =3)\n",
    "plot_test.title('Length of boat vs Price (Test set)')\n",
    "plot_test.xlabel('Length of boat')\n",
    "plot_test.ylabel('Price in USD')\n",
    "plot_test.show()"
   ]
  },
  {
   "cell_type": "code",
   "execution_count": 31,
   "id": "3b59069b",
   "metadata": {},
   "outputs": [],
   "source": [
    "# Create objects that contain the model summary statistics.\n",
    "\n",
    "rmse = mean_squared_error(y_test, y_predicted) # This is the mean squared error\n",
    "r2 = r2_score(y_test, y_predicted) # This is the R2 score. "
   ]
  },
  {
   "cell_type": "code",
   "execution_count": 32,
   "id": "e69aef91",
   "metadata": {},
   "outputs": [
    {
     "name": "stdout",
     "output_type": "stream",
     "text": [
      "Slope: [[91213.14162527]]\n",
      "Mean squared error:  204303144370.84543\n",
      "R2 score:  0.3771012337298192\n"
     ]
    }
   ],
   "source": [
    "# Print the model summary statistics. This is where you evaluate the performance of the model.\n",
    "\n",
    "print('Slope:' ,regression.coef_)\n",
    "print('Mean squared error: ', rmse)\n",
    "print('R2 score: ', r2)"
   ]
  },
  {
   "cell_type": "markdown",
   "id": "73871dfd",
   "metadata": {},
   "source": [
    "The graph aligns with my hypotheses of the higher the boat length, the higher the price. The relationship is positive since the slope is positive. The MSE is high at 188101017128 , so the regression line does not represent the data. Also, the R2 score of 0.38 so it indicates a poor fit."
   ]
  },
  {
   "cell_type": "code",
   "execution_count": 33,
   "id": "f039a160",
   "metadata": {},
   "outputs": [
    {
     "data": {
      "text/plain": [
       "array([[ 203520.91823237],\n",
       "       [-149473.9398574 ],\n",
       "       [ 220851.41514117],\n",
       "       ...,\n",
       "       [-143089.01994364],\n",
       "       [  11973.32081932],\n",
       "       [  -3532.91325698]])"
      ]
     },
     "execution_count": 33,
     "metadata": {},
     "output_type": "execute_result"
    }
   ],
   "source": [
    "y_predicted"
   ]
  },
  {
   "cell_type": "code",
   "execution_count": 34,
   "id": "dc658881",
   "metadata": {},
   "outputs": [
    {
     "data": {
      "text/html": [
       "<div>\n",
       "<style scoped>\n",
       "    .dataframe tbody tr th:only-of-type {\n",
       "        vertical-align: middle;\n",
       "    }\n",
       "\n",
       "    .dataframe tbody tr th {\n",
       "        vertical-align: top;\n",
       "    }\n",
       "\n",
       "    .dataframe thead th {\n",
       "        text-align: right;\n",
       "    }\n",
       "</style>\n",
       "<table border=\"1\" class=\"dataframe\">\n",
       "  <thead>\n",
       "    <tr style=\"text-align: right;\">\n",
       "      <th></th>\n",
       "      <th>Actual</th>\n",
       "      <th>Predicted</th>\n",
       "    </tr>\n",
       "  </thead>\n",
       "  <tbody>\n",
       "    <tr>\n",
       "      <th>0</th>\n",
       "      <td>74094.0</td>\n",
       "      <td>2.035209e+05</td>\n",
       "    </tr>\n",
       "    <tr>\n",
       "      <th>1</th>\n",
       "      <td>59292.0</td>\n",
       "      <td>-1.494739e+05</td>\n",
       "    </tr>\n",
       "    <tr>\n",
       "      <th>2</th>\n",
       "      <td>95400.0</td>\n",
       "      <td>2.208514e+05</td>\n",
       "    </tr>\n",
       "    <tr>\n",
       "      <th>3</th>\n",
       "      <td>41234.0</td>\n",
       "      <td>8.038318e+04</td>\n",
       "    </tr>\n",
       "    <tr>\n",
       "      <th>4</th>\n",
       "      <td>159000.0</td>\n",
       "      <td>-5.917293e+04</td>\n",
       "    </tr>\n",
       "    <tr>\n",
       "      <th>5</th>\n",
       "      <td>198220.0</td>\n",
       "      <td>9.406515e+04</td>\n",
       "    </tr>\n",
       "    <tr>\n",
       "      <th>6</th>\n",
       "      <td>36570.0</td>\n",
       "      <td>-8.744900e+04</td>\n",
       "    </tr>\n",
       "    <tr>\n",
       "      <th>7</th>\n",
       "      <td>609500.0</td>\n",
       "      <td>1.202305e+06</td>\n",
       "    </tr>\n",
       "    <tr>\n",
       "      <th>8</th>\n",
       "      <td>105883.4</td>\n",
       "      <td>1.197332e+04</td>\n",
       "    </tr>\n",
       "    <tr>\n",
       "      <th>9</th>\n",
       "      <td>16430.0</td>\n",
       "      <td>-1.020431e+05</td>\n",
       "    </tr>\n",
       "    <tr>\n",
       "      <th>10</th>\n",
       "      <td>104940.0</td>\n",
       "      <td>8.038318e+04</td>\n",
       "    </tr>\n",
       "    <tr>\n",
       "      <th>11</th>\n",
       "      <td>371000.0</td>\n",
       "      <td>8.100883e+05</td>\n",
       "    </tr>\n",
       "    <tr>\n",
       "      <th>12</th>\n",
       "      <td>111300.0</td>\n",
       "      <td>6.943760e+04</td>\n",
       "    </tr>\n",
       "    <tr>\n",
       "      <th>13</th>\n",
       "      <td>21189.4</td>\n",
       "      <td>-2.780845e+05</td>\n",
       "    </tr>\n",
       "    <tr>\n",
       "      <th>14</th>\n",
       "      <td>47594.0</td>\n",
       "      <td>-1.567710e+05</td>\n",
       "    </tr>\n",
       "    <tr>\n",
       "      <th>15</th>\n",
       "      <td>85050.0</td>\n",
       "      <td>-2.177554e+04</td>\n",
       "    </tr>\n",
       "    <tr>\n",
       "      <th>16</th>\n",
       "      <td>76320.0</td>\n",
       "      <td>2.263242e+05</td>\n",
       "    </tr>\n",
       "    <tr>\n",
       "      <th>17</th>\n",
       "      <td>71009.4</td>\n",
       "      <td>-9.292179e+04</td>\n",
       "    </tr>\n",
       "    <tr>\n",
       "      <th>18</th>\n",
       "      <td>52920.0</td>\n",
       "      <td>-6.008506e+04</td>\n",
       "    </tr>\n",
       "    <tr>\n",
       "      <th>19</th>\n",
       "      <td>259700.0</td>\n",
       "      <td>4.725997e+05</td>\n",
       "    </tr>\n",
       "    <tr>\n",
       "      <th>20</th>\n",
       "      <td>54060.0</td>\n",
       "      <td>8.038318e+04</td>\n",
       "    </tr>\n",
       "    <tr>\n",
       "      <th>21</th>\n",
       "      <td>82680.0</td>\n",
       "      <td>3.248344e+05</td>\n",
       "    </tr>\n",
       "    <tr>\n",
       "      <th>22</th>\n",
       "      <td>73670.0</td>\n",
       "      <td>5.255033e+05</td>\n",
       "    </tr>\n",
       "    <tr>\n",
       "      <th>23</th>\n",
       "      <td>48600.0</td>\n",
       "      <td>-5.917293e+04</td>\n",
       "    </tr>\n",
       "    <tr>\n",
       "      <th>24</th>\n",
       "      <td>188574.0</td>\n",
       "      <td>6.276620e+05</td>\n",
       "    </tr>\n",
       "    <tr>\n",
       "      <th>25</th>\n",
       "      <td>25380.0</td>\n",
       "      <td>-1.914320e+05</td>\n",
       "    </tr>\n",
       "    <tr>\n",
       "      <th>26</th>\n",
       "      <td>291500.0</td>\n",
       "      <td>6.212771e+05</td>\n",
       "    </tr>\n",
       "    <tr>\n",
       "      <th>27</th>\n",
       "      <td>26892.0</td>\n",
       "      <td>1.031865e+05</td>\n",
       "    </tr>\n",
       "    <tr>\n",
       "      <th>28</th>\n",
       "      <td>62540.0</td>\n",
       "      <td>3.275708e+05</td>\n",
       "    </tr>\n",
       "    <tr>\n",
       "      <th>29</th>\n",
       "      <td>62010.0</td>\n",
       "      <td>-4.366670e+04</td>\n",
       "    </tr>\n",
       "  </tbody>\n",
       "</table>\n",
       "</div>"
      ],
      "text/plain": [
       "      Actual     Predicted\n",
       "0    74094.0  2.035209e+05\n",
       "1    59292.0 -1.494739e+05\n",
       "2    95400.0  2.208514e+05\n",
       "3    41234.0  8.038318e+04\n",
       "4   159000.0 -5.917293e+04\n",
       "5   198220.0  9.406515e+04\n",
       "6    36570.0 -8.744900e+04\n",
       "7   609500.0  1.202305e+06\n",
       "8   105883.4  1.197332e+04\n",
       "9    16430.0 -1.020431e+05\n",
       "10  104940.0  8.038318e+04\n",
       "11  371000.0  8.100883e+05\n",
       "12  111300.0  6.943760e+04\n",
       "13   21189.4 -2.780845e+05\n",
       "14   47594.0 -1.567710e+05\n",
       "15   85050.0 -2.177554e+04\n",
       "16   76320.0  2.263242e+05\n",
       "17   71009.4 -9.292179e+04\n",
       "18   52920.0 -6.008506e+04\n",
       "19  259700.0  4.725997e+05\n",
       "20   54060.0  8.038318e+04\n",
       "21   82680.0  3.248344e+05\n",
       "22   73670.0  5.255033e+05\n",
       "23   48600.0 -5.917293e+04\n",
       "24  188574.0  6.276620e+05\n",
       "25   25380.0 -1.914320e+05\n",
       "26  291500.0  6.212771e+05\n",
       "27   26892.0  1.031865e+05\n",
       "28   62540.0  3.275708e+05\n",
       "29   62010.0 -4.366670e+04"
      ]
     },
     "execution_count": 34,
     "metadata": {},
     "output_type": "execute_result"
    }
   ],
   "source": [
    "# Create a dataframe comparing the actual and predicted values of y\n",
    "\n",
    "data = pd.DataFrame({'Actual': y_test.flatten(), 'Predicted': y_predicted.flatten()})\n",
    "data.head(30)"
   ]
  },
  {
   "cell_type": "markdown",
   "id": "e361d359",
   "metadata": {},
   "source": [
    "## Compare how the regression fits the training set"
   ]
  },
  {
   "cell_type": "code",
   "execution_count": 36,
   "id": "ce590870",
   "metadata": {},
   "outputs": [],
   "source": [
    "# Predict\n",
    "\n",
    "y_predicted_train = regression.predict(X_train) # This is predicting X_train"
   ]
  },
  {
   "cell_type": "code",
   "execution_count": 37,
   "id": "3790f605",
   "metadata": {},
   "outputs": [],
   "source": [
    "rmse = mean_squared_error(y_train, y_predicted_train)\n",
    "r2 = r2_score(y_train, y_predicted_train)"
   ]
  },
  {
   "cell_type": "code",
   "execution_count": 38,
   "id": "b93e1512",
   "metadata": {},
   "outputs": [
    {
     "name": "stdout",
     "output_type": "stream",
     "text": [
      "Slope: [[91213.14162527]]\n",
      "Mean squared error:  295916280711.5342\n",
      "R2 score:  0.40103978789603356\n"
     ]
    }
   ],
   "source": [
    "print('Slope:' ,regression.coef_)\n",
    "print('Mean squared error: ', rmse)\n",
    "print('R2 score: ', r2)"
   ]
  },
  {
   "cell_type": "markdown",
   "id": "6176ac31",
   "metadata": {},
   "source": [
    "There could be data bias in the model as there are other factors that determine the length of the boat and price. The values are identical to the model. Positive relationship, extremely high MSE and a low R2. This all indicates that the length of the boat is not a good determinant of the cost of the boat."
   ]
  },
  {
   "cell_type": "code",
   "execution_count": 39,
   "id": "bbf8ac9e",
   "metadata": {},
   "outputs": [
    {
     "data": {
      "image/png": "[encoded data removed]",
      "text/plain": [
       "<Figure size 432x288 with 1 Axes>"
      ]
     },
     "metadata": {
      "needs_background": "light"
     },
     "output_type": "display_data"
    }
   ],
   "source": [
    "# Visualizing the training set results.\n",
    "\n",
    "plot_test = plt\n",
    "plot_test.scatter(X_train, y_train, color='green', s = 15)\n",
    "plot_test.plot(X_train, y_predicted_train, color='red', linewidth =3)\n",
    "plot_test.title('Lenght of boat vs Price(Train set)')\n",
    "plot_test.xlabel('Length of boat')\n",
    "plot_test.ylabel('Price in USD')\n",
    "plot_test.show()"
   ]
  },
  {
   "cell_type": "code",
   "execution_count": null,
   "id": "f0b11168",
   "metadata": {},
   "outputs": [],
   "source": []
  }
 ],
 "metadata": {
  "kernelspec": {
   "display_name": "Python 3 (ipykernel)",
   "language": "python",
   "name": "python3"
  },
  "language_info": {
   "codemirror_mode": {
    "name": "ipython",
    "version": 3
   },
   "file_extension": ".py",
   "mimetype": "text/x-python",
   "name": "python",
   "nbconvert_exporter": "python",
   "pygments_lexer": "ipython3",
   "version": "3.9.12"
  }
 },
 "nbformat": 4,
 "nbformat_minor": 5
}
