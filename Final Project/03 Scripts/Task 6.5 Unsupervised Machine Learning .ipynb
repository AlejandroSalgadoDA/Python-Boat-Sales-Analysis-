{
 "cells": [
  {
   "cell_type": "markdown",
   "id": "ef316222",
   "metadata": {},
   "source": [
    "# Table of Contents \n",
    "## 1 Import Libraires\n",
    "## 2 Standarizing the Data\n",
    "## 3 The elbow technique \n",
    "## 4 k-means clustering"
   ]
  },
  {
   "cell_type": "markdown",
   "id": "596ac097",
   "metadata": {},
   "source": [
    "# 1. Import Libraries"
   ]
  },
  {
   "cell_type": "code",
   "execution_count": 57,
   "id": "87e82a1d",
   "metadata": {},
   "outputs": [],
   "source": [
    "import pandas as pd\n",
    "import numpy as np\n",
    "import seaborn as sns\n",
    "import matplotlib\n",
    "import matplotlib.pyplot as plt\n",
    "import os\n",
    "import sklearn\n",
    "from sklearn.cluster import KMeans # Here is where you import the k-means algorithm from scikit-learn.\n",
    "import pylab as pl # PyLab is a convenience module that bulk imports matplotlib.\n",
    "from sklearn.preprocessing import StandardScaler"
   ]
  },
  {
   "cell_type": "code",
   "execution_count": 58,
   "id": "44e09bea",
   "metadata": {},
   "outputs": [],
   "source": [
    "# This option ensures the graphs you create are displayed in your notebook without the need to \"call\" them specifically.\n",
    "\n",
    "%matplotlib inline"
   ]
  },
  {
   "cell_type": "code",
   "execution_count": 59,
   "id": "c9b792c3",
   "metadata": {},
   "outputs": [],
   "source": [
    "# Create a path\n",
    "path = r'/Users/alejandrosalgado/Desktop/Final Project'"
   ]
  },
  {
   "cell_type": "code",
   "execution_count": 60,
   "id": "05c1faba",
   "metadata": {},
   "outputs": [],
   "source": [
    "# Load data\n",
    "df = pd.read_pickle(r'/Users/alejandrosalgado/Desktop/Final Project/Boat_Orders_clean_2.pkl')"
   ]
  },
  {
   "cell_type": "code",
   "execution_count": 61,
   "id": "cf189615",
   "metadata": {},
   "outputs": [
    {
     "data": {
      "text/html": [
       "<div>\n",
       "<style scoped>\n",
       "    .dataframe tbody tr th:only-of-type {\n",
       "        vertical-align: middle;\n",
       "    }\n",
       "\n",
       "    .dataframe tbody tr th {\n",
       "        vertical-align: top;\n",
       "    }\n",
       "\n",
       "    .dataframe thead th {\n",
       "        text-align: right;\n",
       "    }\n",
       "</style>\n",
       "<table border=\"1\" class=\"dataframe\">\n",
       "  <thead>\n",
       "    <tr style=\"text-align: right;\">\n",
       "      <th></th>\n",
       "      <th>Boat Type</th>\n",
       "      <th>Manufacturer</th>\n",
       "      <th>Type</th>\n",
       "      <th>Year Built</th>\n",
       "      <th>Length</th>\n",
       "      <th>Width</th>\n",
       "      <th>Material</th>\n",
       "      <th>Number of views last 7 days</th>\n",
       "      <th>Country</th>\n",
       "      <th>City</th>\n",
       "      <th>USD_price</th>\n",
       "      <th>Pricing Category</th>\n",
       "    </tr>\n",
       "  </thead>\n",
       "  <tbody>\n",
       "    <tr>\n",
       "      <th>0</th>\n",
       "      <td>Center console boat</td>\n",
       "      <td>Terhi power boats</td>\n",
       "      <td>new boat from stock</td>\n",
       "      <td>2020</td>\n",
       "      <td>4.00</td>\n",
       "      <td>1.50</td>\n",
       "      <td>Thermoplastic</td>\n",
       "      <td>75</td>\n",
       "      <td>Germany</td>\n",
       "      <td>BÃ¶nningstedt</td>\n",
       "      <td>3699.40</td>\n",
       "      <td>Low-priced</td>\n",
       "    </tr>\n",
       "    <tr>\n",
       "      <th>1</th>\n",
       "      <td>Fishing Boat</td>\n",
       "      <td>Linder power boats</td>\n",
       "      <td>new boat from stock</td>\n",
       "      <td>2019</td>\n",
       "      <td>3.55</td>\n",
       "      <td>1.46</td>\n",
       "      <td>Aluminium</td>\n",
       "      <td>58</td>\n",
       "      <td>Germany</td>\n",
       "      <td>Bayern</td>\n",
       "      <td>3602.94</td>\n",
       "      <td>Low-priced</td>\n",
       "    </tr>\n",
       "    <tr>\n",
       "      <th>2</th>\n",
       "      <td>Fishing Boat</td>\n",
       "      <td>Terhi power boats</td>\n",
       "      <td>Used boat,Electric</td>\n",
       "      <td>1987</td>\n",
       "      <td>4.35</td>\n",
       "      <td>1.75</td>\n",
       "      <td>GRP</td>\n",
       "      <td>239</td>\n",
       "      <td>Switzerland</td>\n",
       "      <td>Seengen</td>\n",
       "      <td>3780.00</td>\n",
       "      <td>Low-priced</td>\n",
       "    </tr>\n",
       "    <tr>\n",
       "      <th>3</th>\n",
       "      <td>Sport Boat</td>\n",
       "      <td>GS Nautica power boats</td>\n",
       "      <td>Used boat</td>\n",
       "      <td>2004</td>\n",
       "      <td>4.70</td>\n",
       "      <td>2.00</td>\n",
       "      <td>GRP</td>\n",
       "      <td>69</td>\n",
       "      <td>Italy</td>\n",
       "      <td>Lake Garda</td>\n",
       "      <td>3710.00</td>\n",
       "      <td>Low-priced</td>\n",
       "    </tr>\n",
       "    <tr>\n",
       "      <th>4</th>\n",
       "      <td>Runabout</td>\n",
       "      <td>Kimple power boats</td>\n",
       "      <td>new boat from stock</td>\n",
       "      <td>2020</td>\n",
       "      <td>4.40</td>\n",
       "      <td>1.65</td>\n",
       "      <td>Aluminium</td>\n",
       "      <td>113</td>\n",
       "      <td>Switzerland</td>\n",
       "      <td>Zugersee</td>\n",
       "      <td>4968.00</td>\n",
       "      <td>Low-priced</td>\n",
       "    </tr>\n",
       "  </tbody>\n",
       "</table>\n",
       "</div>"
      ],
      "text/plain": [
       "             Boat Type            Manufacturer                 Type  \\\n",
       "0  Center console boat       Terhi power boats  new boat from stock   \n",
       "1         Fishing Boat      Linder power boats  new boat from stock   \n",
       "2         Fishing Boat       Terhi power boats   Used boat,Electric   \n",
       "3           Sport Boat  GS Nautica power boats            Used boat   \n",
       "4             Runabout      Kimple power boats  new boat from stock   \n",
       "\n",
       "   Year Built  Length  Width       Material  Number of views last 7 days  \\\n",
       "0        2020    4.00   1.50  Thermoplastic                           75   \n",
       "1        2019    3.55   1.46      Aluminium                           58   \n",
       "2        1987    4.35   1.75            GRP                          239   \n",
       "3        2004    4.70   2.00            GRP                           69   \n",
       "4        2020    4.40   1.65      Aluminium                          113   \n",
       "\n",
       "        Country            City  USD_price Pricing Category  \n",
       "0      Germany    BÃ¶nningstedt    3699.40       Low-priced  \n",
       "1      Germany          Bayern     3602.94       Low-priced  \n",
       "2  Switzerland          Seengen    3780.00       Low-priced  \n",
       "3        Italy      Lake Garda     3710.00       Low-priced  \n",
       "4  Switzerland        Zugersee     4968.00       Low-priced  "
      ]
     },
     "execution_count": 61,
     "metadata": {},
     "output_type": "execute_result"
    }
   ],
   "source": [
    "df.head()"
   ]
  },
  {
   "cell_type": "code",
   "execution_count": 34,
   "id": "4c9644f8",
   "metadata": {},
   "outputs": [
    {
     "name": "stderr",
     "output_type": "stream",
     "text": [
      "/var/folders/wk/r4fv1r8s1kz3ksnb_nsqv6bc0000gn/T/ipykernel_17571/3202746034.py:2: SettingWithCopyWarning: \n",
      "A value is trying to be set on a copy of a slice from a DataFrame\n",
      "\n",
      "See the caveats in the documentation: https://pandas.pydata.org/pandas-docs/stable/user_guide/indexing.html#returning-a-view-versus-a-copy\n",
      "  df.rename(columns = {'Number of views last 7 days':'7days_views'}, inplace = True)\n"
     ]
    }
   ],
   "source": [
    "# Rename the columns\n",
    "df.rename(columns = {'Number of views last 7 days':'7days_views'}, inplace = True)"
   ]
  },
  {
   "cell_type": "code",
   "execution_count": 63,
   "id": "66584007",
   "metadata": {},
   "outputs": [],
   "source": [
    "df.to_csv(os.path.join(path, 'boat_cleaned_3.csv'))"
   ]
  },
  {
   "cell_type": "code",
   "execution_count": 35,
   "id": "586b0df2",
   "metadata": {},
   "outputs": [
    {
     "data": {
      "text/html": [
       "<div>\n",
       "<style scoped>\n",
       "    .dataframe tbody tr th:only-of-type {\n",
       "        vertical-align: middle;\n",
       "    }\n",
       "\n",
       "    .dataframe tbody tr th {\n",
       "        vertical-align: top;\n",
       "    }\n",
       "\n",
       "    .dataframe thead th {\n",
       "        text-align: right;\n",
       "    }\n",
       "</style>\n",
       "<table border=\"1\" class=\"dataframe\">\n",
       "  <thead>\n",
       "    <tr style=\"text-align: right;\">\n",
       "      <th></th>\n",
       "      <th>Length</th>\n",
       "      <th>Width</th>\n",
       "      <th>7days_views</th>\n",
       "      <th>USD_price</th>\n",
       "    </tr>\n",
       "  </thead>\n",
       "  <tbody>\n",
       "    <tr>\n",
       "      <th>0</th>\n",
       "      <td>4.00</td>\n",
       "      <td>1.50</td>\n",
       "      <td>75</td>\n",
       "      <td>3699.40</td>\n",
       "    </tr>\n",
       "    <tr>\n",
       "      <th>1</th>\n",
       "      <td>3.55</td>\n",
       "      <td>1.46</td>\n",
       "      <td>58</td>\n",
       "      <td>3602.94</td>\n",
       "    </tr>\n",
       "    <tr>\n",
       "      <th>2</th>\n",
       "      <td>4.35</td>\n",
       "      <td>1.75</td>\n",
       "      <td>239</td>\n",
       "      <td>3780.00</td>\n",
       "    </tr>\n",
       "    <tr>\n",
       "      <th>3</th>\n",
       "      <td>4.70</td>\n",
       "      <td>2.00</td>\n",
       "      <td>69</td>\n",
       "      <td>3710.00</td>\n",
       "    </tr>\n",
       "    <tr>\n",
       "      <th>4</th>\n",
       "      <td>4.40</td>\n",
       "      <td>1.65</td>\n",
       "      <td>113</td>\n",
       "      <td>4968.00</td>\n",
       "    </tr>\n",
       "  </tbody>\n",
       "</table>\n",
       "</div>"
      ],
      "text/plain": [
       "   Length  Width  7days_views  USD_price\n",
       "0    4.00   1.50           75    3699.40\n",
       "1    3.55   1.46           58    3602.94\n",
       "2    4.35   1.75          239    3780.00\n",
       "3    4.70   2.00           69    3710.00\n",
       "4    4.40   1.65          113    4968.00"
      ]
     },
     "execution_count": 35,
     "metadata": {},
     "output_type": "execute_result"
    }
   ],
   "source": [
    "df.head()"
   ]
  },
  {
   "cell_type": "code",
   "execution_count": 36,
   "id": "7a615edf",
   "metadata": {},
   "outputs": [
    {
     "data": {
      "text/plain": [
       "(6001, 4)"
      ]
     },
     "execution_count": 36,
     "metadata": {},
     "output_type": "execute_result"
    }
   ],
   "source": [
    "df.shape"
   ]
  },
  {
   "cell_type": "code",
   "execution_count": 37,
   "id": "a08e4119",
   "metadata": {},
   "outputs": [],
   "source": [
    "df = df[['Length','Width','7days_views','USD_price']]"
   ]
  },
  {
   "cell_type": "markdown",
   "id": "1b5976dc",
   "metadata": {},
   "source": [
    "## 2. Standadizing the Data"
   ]
  },
  {
   "cell_type": "code",
   "execution_count": 38,
   "id": "c98d28a8",
   "metadata": {},
   "outputs": [
    {
     "name": "stdout",
     "output_type": "stream",
     "text": [
      "[[-1.41005333 -1.76743232 -0.52645641 -0.36476608]\n",
      " [-1.50289423 -1.8047781  -0.62569917 -0.3649108 ]\n",
      " [-1.33784374 -1.53402117  0.43094436 -0.36464515]\n",
      " ...\n",
      " [-0.99742711 -1.65539497  0.71699703 -0.36229565]\n",
      " [-1.32752808 -1.48733894  1.10229246 -0.36316143]\n",
      " [-1.49257857 -1.67406786  0.16824293 -0.36419146]]\n"
     ]
    }
   ],
   "source": [
    "# standazing the data\n",
    "scaler = StandardScaler()\n",
    "standardized_data = scaler.fit_transform(df)\n",
    "print(standardized_data)"
   ]
  },
  {
   "cell_type": "code",
   "execution_count": 39,
   "id": "e620fa7f",
   "metadata": {},
   "outputs": [
    {
     "name": "stdout",
     "output_type": "stream",
     "text": [
      "        Length     Width  7days_views  USD_price\n",
      "0    -1.410053 -1.767432    -0.526456  -0.364766\n",
      "1    -1.502894 -1.804778    -0.625699  -0.364911\n",
      "2    -1.337844 -1.534021     0.430944  -0.364645\n",
      "3    -1.265634 -1.300610    -0.561483  -0.364750\n",
      "4    -1.327528 -1.627386    -0.304620  -0.362863\n",
      "...        ...       ...          ...        ...\n",
      "5996 -0.749851 -0.647059     6.619022  -0.362215\n",
      "5997 -0.997427 -1.207246    10.226789  -0.362216\n",
      "5998 -0.997427 -1.655395     0.716997  -0.362296\n",
      "5999 -1.327528 -1.487339     1.102292  -0.363161\n",
      "6000 -1.492579 -1.674068     0.168243  -0.364191\n",
      "\n",
      "[6001 rows x 4 columns]\n"
     ]
    }
   ],
   "source": [
    "# coverting to dataframe\n",
    "df = pd.DataFrame(standardized_data, columns=df.columns)\n",
    "print(df)"
   ]
  },
  {
   "cell_type": "markdown",
   "id": "95946e0e",
   "metadata": {},
   "source": [
    "## 3. The elbow technique"
   ]
  },
  {
   "cell_type": "code",
   "execution_count": 41,
   "id": "3bfcff87",
   "metadata": {},
   "outputs": [],
   "source": [
    "num_cl = range(1, 10) # Defines the range of potential clusters in the data.\n",
    "kmeans = [KMeans(n_clusters=i) for i in num_cl] # Defines k-means clusters in the range assigned above."
   ]
  },
  {
   "cell_type": "code",
   "execution_count": 42,
   "id": "f0ac849f",
   "metadata": {},
   "outputs": [
    {
     "data": {
      "text/plain": [
       "[-24004.00000000002,\n",
       " -15670.596638129788,\n",
       " -11940.170907696334,\n",
       " -9097.034759065577,\n",
       " -7136.250087635683,\n",
       " -6109.2028965152995,\n",
       " -5390.389976656232,\n",
       " -4624.420971942053,\n",
       " -4137.361855829046]"
      ]
     },
     "execution_count": 42,
     "metadata": {},
     "output_type": "execute_result"
    }
   ],
   "source": [
    "score = [kmeans[i].fit(df).score(df) for i in range(len(kmeans))] # Creates a score that represents \n",
    "# a rate of variation for the given cluster option.\n",
    "\n",
    "score"
   ]
  },
  {
   "cell_type": "code",
   "execution_count": 43,
   "id": "8e7dd480",
   "metadata": {},
   "outputs": [
    {
     "data": {
      "image/png": "[encoded data removed]",
      "text/plain": [
       "<Figure size 432x288 with 1 Axes>"
      ]
     },
     "metadata": {
      "needs_background": "light"
     },
     "output_type": "display_data"
    }
   ],
   "source": [
    "# Plot the elbow curve using PyLab.\n",
    "\n",
    "pl.plot(num_cl,score)\n",
    "pl.xlabel('Number of Clusters')\n",
    "pl.ylabel('Score')\n",
    "pl.title('Elbow Curve')\n",
    "pl.show()"
   ]
  },
  {
   "cell_type": "markdown",
   "id": "e0b7195e",
   "metadata": {},
   "source": [
    "The optimal count of your clusters is 5. There is a noticable staright line adjustment after 5."
   ]
  },
  {
   "cell_type": "markdown",
   "id": "c22f7a55",
   "metadata": {},
   "source": [
    "## 4. k-means clustering"
   ]
  },
  {
   "cell_type": "code",
   "execution_count": 44,
   "id": "aea6d89d",
   "metadata": {},
   "outputs": [],
   "source": [
    "# Create the k-means object\n",
    "\n",
    "kmeans = KMeans(n_clusters = 5) "
   ]
  },
  {
   "cell_type": "code",
   "execution_count": 45,
   "id": "4db8db17",
   "metadata": {},
   "outputs": [
    {
     "data": {
      "text/plain": [
       "KMeans(n_clusters=5)"
      ]
     },
     "execution_count": 45,
     "metadata": {},
     "output_type": "execute_result"
    }
   ],
   "source": [
    "# Fit the k-means object to the data\n",
    "\n",
    "kmeans.fit(df)"
   ]
  },
  {
   "cell_type": "code",
   "execution_count": 46,
   "id": "b6c2af70",
   "metadata": {},
   "outputs": [],
   "source": [
    "df['clusters'] = kmeans.fit_predict(df)"
   ]
  },
  {
   "cell_type": "code",
   "execution_count": 47,
   "id": "69accb70",
   "metadata": {},
   "outputs": [
    {
     "data": {
      "text/html": [
       "<div>\n",
       "<style scoped>\n",
       "    .dataframe tbody tr th:only-of-type {\n",
       "        vertical-align: middle;\n",
       "    }\n",
       "\n",
       "    .dataframe tbody tr th {\n",
       "        vertical-align: top;\n",
       "    }\n",
       "\n",
       "    .dataframe thead th {\n",
       "        text-align: right;\n",
       "    }\n",
       "</style>\n",
       "<table border=\"1\" class=\"dataframe\">\n",
       "  <thead>\n",
       "    <tr style=\"text-align: right;\">\n",
       "      <th></th>\n",
       "      <th>Length</th>\n",
       "      <th>Width</th>\n",
       "      <th>7days_views</th>\n",
       "      <th>USD_price</th>\n",
       "      <th>clusters</th>\n",
       "    </tr>\n",
       "  </thead>\n",
       "  <tbody>\n",
       "    <tr>\n",
       "      <th>0</th>\n",
       "      <td>-1.410053</td>\n",
       "      <td>-1.767432</td>\n",
       "      <td>-0.526456</td>\n",
       "      <td>-0.364766</td>\n",
       "      <td>2</td>\n",
       "    </tr>\n",
       "    <tr>\n",
       "      <th>1</th>\n",
       "      <td>-1.502894</td>\n",
       "      <td>-1.804778</td>\n",
       "      <td>-0.625699</td>\n",
       "      <td>-0.364911</td>\n",
       "      <td>2</td>\n",
       "    </tr>\n",
       "    <tr>\n",
       "      <th>2</th>\n",
       "      <td>-1.337844</td>\n",
       "      <td>-1.534021</td>\n",
       "      <td>0.430944</td>\n",
       "      <td>-0.364645</td>\n",
       "      <td>2</td>\n",
       "    </tr>\n",
       "    <tr>\n",
       "      <th>3</th>\n",
       "      <td>-1.265634</td>\n",
       "      <td>-1.300610</td>\n",
       "      <td>-0.561483</td>\n",
       "      <td>-0.364750</td>\n",
       "      <td>2</td>\n",
       "    </tr>\n",
       "    <tr>\n",
       "      <th>4</th>\n",
       "      <td>-1.327528</td>\n",
       "      <td>-1.627386</td>\n",
       "      <td>-0.304620</td>\n",
       "      <td>-0.362863</td>\n",
       "      <td>2</td>\n",
       "    </tr>\n",
       "  </tbody>\n",
       "</table>\n",
       "</div>"
      ],
      "text/plain": [
       "     Length     Width  7days_views  USD_price  clusters\n",
       "0 -1.410053 -1.767432    -0.526456  -0.364766         2\n",
       "1 -1.502894 -1.804778    -0.625699  -0.364911         2\n",
       "2 -1.337844 -1.534021     0.430944  -0.364645         2\n",
       "3 -1.265634 -1.300610    -0.561483  -0.364750         2\n",
       "4 -1.327528 -1.627386    -0.304620  -0.362863         2"
      ]
     },
     "execution_count": 47,
     "metadata": {},
     "output_type": "execute_result"
    }
   ],
   "source": [
    "df.head()"
   ]
  },
  {
   "cell_type": "code",
   "execution_count": 48,
   "id": "2999444d",
   "metadata": {},
   "outputs": [
    {
     "data": {
      "text/plain": [
       "2    2915\n",
       "0    2237\n",
       "3     497\n",
       "1     322\n",
       "4      30\n",
       "Name: clusters, dtype: int64"
      ]
     },
     "execution_count": 48,
     "metadata": {},
     "output_type": "execute_result"
    }
   ],
   "source": [
    "df['clusters'].value_counts()"
   ]
  },
  {
   "cell_type": "code",
   "execution_count": 49,
   "id": "e8a62b8d",
   "metadata": {},
   "outputs": [
    {
     "data": {
      "image/png": "[encoded data removed]",
      "text/plain": [
       "<Figure size 864x576 with 1 Axes>"
      ]
     },
     "metadata": {
      "needs_background": "light"
     },
     "output_type": "display_data"
    }
   ],
   "source": [
    "# Plot the clusters for the \"USD_price\" and \"Length\" variables\n",
    "\n",
    "plt.figure(figsize=(12,8))\n",
    "ax = sns.scatterplot(x=df['Length'], y=df['USD_price'], hue=kmeans.labels_, s=100) \n",
    "# Here, you're subsetting `X` for the x and y arguments to avoid using their labels. \n",
    "# `hue` takes the value of the attribute `kmeans.labels_`, which is the result of running the k-means algorithm.\n",
    "# `s` represents the size of the points you want to see in the plot.\n",
    "\n",
    "ax.grid(False) # This removes the grid from the background.\n",
    "plt.xlabel('Length of the boat') # Label x-axis.\n",
    "plt.ylabel('Price per boat') # Label y-axis.\n",
    "plt.show()"
   ]
  },
  {
   "cell_type": "code",
   "execution_count": 50,
   "id": "87e06514",
   "metadata": {},
   "outputs": [
    {
     "data": {
      "image/png": "[encoded data removed]",
      "text/plain": [
       "<Figure size 864x576 with 1 Axes>"
      ]
     },
     "metadata": {
      "needs_background": "light"
     },
     "output_type": "display_data"
    }
   ],
   "source": [
    "# Plot the clusters for the \"7days_views\" and \"USD_price\" variables.\n",
    "\n",
    "plt.figure(figsize=(12,8))\n",
    "ax = sns.scatterplot(x=df['7days_views'], y=df['USD_price'], hue=kmeans.labels_, s=100)\n",
    "\n",
    "ax.grid(False) \n",
    "plt.xlabel('7days_views') \n",
    "plt.ylabel('USD_price') \n",
    "plt.show()"
   ]
  },
  {
   "cell_type": "markdown",
   "id": "88ced094",
   "metadata": {},
   "source": [
    "There can be a realtionship between the length of the boat and the price of the boat as the first graph suggests. The longer the boat the higher the price, but there can be other factors at play as well. The Second graph shows does not really show great inisght on price and views meaning other factors can be a contributor. "
   ]
  },
  {
   "cell_type": "code",
   "execution_count": 51,
   "id": "51eb15aa",
   "metadata": {},
   "outputs": [],
   "source": [
    "df.loc[df['clusters'] == 4, 'cluster'] = 'dark purple'\n",
    "df.loc[df['clusters'] == 3, 'cluster'] = 'dent purple'\n",
    "df.loc[df['clusters'] == 2, 'cluster'] = 'purple'\n",
    "df.loc[df['clusters'] == 1, 'cluster'] = 'whitish purple'\n",
    "df.loc[df['clusters'] == 0, 'cluster'] = 'whitish pink'"
   ]
  },
  {
   "cell_type": "code",
   "execution_count": 53,
   "id": "569f1122",
   "metadata": {},
   "outputs": [
    {
     "data": {
      "text/html": [
       "<div>\n",
       "<style scoped>\n",
       "    .dataframe tbody tr th:only-of-type {\n",
       "        vertical-align: middle;\n",
       "    }\n",
       "\n",
       "    .dataframe tbody tr th {\n",
       "        vertical-align: top;\n",
       "    }\n",
       "\n",
       "    .dataframe thead tr th {\n",
       "        text-align: left;\n",
       "    }\n",
       "\n",
       "    .dataframe thead tr:last-of-type th {\n",
       "        text-align: right;\n",
       "    }\n",
       "</style>\n",
       "<table border=\"1\" class=\"dataframe\">\n",
       "  <thead>\n",
       "    <tr>\n",
       "      <th></th>\n",
       "      <th colspan=\"2\" halign=\"left\">Length</th>\n",
       "      <th colspan=\"2\" halign=\"left\">Width</th>\n",
       "      <th colspan=\"2\" halign=\"left\">7days_views</th>\n",
       "      <th colspan=\"2\" halign=\"left\">USD_price</th>\n",
       "    </tr>\n",
       "    <tr>\n",
       "      <th></th>\n",
       "      <th>mean</th>\n",
       "      <th>median</th>\n",
       "      <th>mean</th>\n",
       "      <th>median</th>\n",
       "      <th>mean</th>\n",
       "      <th>median</th>\n",
       "      <th>mean</th>\n",
       "      <th>median</th>\n",
       "    </tr>\n",
       "    <tr>\n",
       "      <th>cluster</th>\n",
       "      <th></th>\n",
       "      <th></th>\n",
       "      <th></th>\n",
       "      <th></th>\n",
       "      <th></th>\n",
       "      <th></th>\n",
       "      <th></th>\n",
       "      <th></th>\n",
       "    </tr>\n",
       "  </thead>\n",
       "  <tbody>\n",
       "    <tr>\n",
       "      <th>dark purple</th>\n",
       "      <td>4.686912</td>\n",
       "      <td>4.116043</td>\n",
       "      <td>3.758810</td>\n",
       "      <td>3.451641</td>\n",
       "      <td>0.398253</td>\n",
       "      <td>-0.091540</td>\n",
       "      <td>10.340007</td>\n",
       "      <td>8.500319</td>\n",
       "    </tr>\n",
       "    <tr>\n",
       "      <th>dent purple</th>\n",
       "      <td>2.102940</td>\n",
       "      <td>1.921903</td>\n",
       "      <td>1.914885</td>\n",
       "      <td>1.715062</td>\n",
       "      <td>-0.350723</td>\n",
       "      <td>-0.473916</td>\n",
       "      <td>1.222310</td>\n",
       "      <td>0.900364</td>\n",
       "    </tr>\n",
       "    <tr>\n",
       "      <th>purple</th>\n",
       "      <td>-0.683587</td>\n",
       "      <td>-0.692084</td>\n",
       "      <td>-0.742114</td>\n",
       "      <td>-0.787105</td>\n",
       "      <td>-0.051831</td>\n",
       "      <td>-0.170350</td>\n",
       "      <td>-0.270767</td>\n",
       "      <td>-0.293980</td>\n",
       "    </tr>\n",
       "    <tr>\n",
       "      <th>whitish pink</th>\n",
       "      <td>0.436719</td>\n",
       "      <td>0.395186</td>\n",
       "      <td>0.569730</td>\n",
       "      <td>0.566679</td>\n",
       "      <td>-0.299304</td>\n",
       "      <td>-0.398025</td>\n",
       "      <td>-0.022662</td>\n",
       "      <td>-0.078654</td>\n",
       "    </tr>\n",
       "    <tr>\n",
       "      <th>whitish purple</th>\n",
       "      <td>-0.528116</td>\n",
       "      <td>-0.646695</td>\n",
       "      <td>-0.545605</td>\n",
       "      <td>-0.749760</td>\n",
       "      <td>3.052774</td>\n",
       "      <td>2.418719</td>\n",
       "      <td>-0.241330</td>\n",
       "      <td>-0.311076</td>\n",
       "    </tr>\n",
       "  </tbody>\n",
       "</table>\n",
       "</div>"
      ],
      "text/plain": [
       "                  Length               Width           7days_views            \\\n",
       "                    mean    median      mean    median        mean    median   \n",
       "cluster                                                                        \n",
       "dark purple     4.686912  4.116043  3.758810  3.451641    0.398253 -0.091540   \n",
       "dent purple     2.102940  1.921903  1.914885  1.715062   -0.350723 -0.473916   \n",
       "purple         -0.683587 -0.692084 -0.742114 -0.787105   -0.051831 -0.170350   \n",
       "whitish pink    0.436719  0.395186  0.569730  0.566679   -0.299304 -0.398025   \n",
       "whitish purple -0.528116 -0.646695 -0.545605 -0.749760    3.052774  2.418719   \n",
       "\n",
       "                USD_price            \n",
       "                     mean    median  \n",
       "cluster                              \n",
       "dark purple     10.340007  8.500319  \n",
       "dent purple      1.222310  0.900364  \n",
       "purple          -0.270767 -0.293980  \n",
       "whitish pink    -0.022662 -0.078654  \n",
       "whitish purple  -0.241330 -0.311076  "
      ]
     },
     "execution_count": 53,
     "metadata": {},
     "output_type": "execute_result"
    }
   ],
   "source": [
    "df.groupby('cluster').agg({'Length':['mean', 'median'], \n",
    "                         'Width':['mean', 'median'], \n",
    "                         '7days_views':['mean', 'median'],\n",
    "                          'USD_price':['mean', 'median']})"
   ]
  },
  {
   "cell_type": "markdown",
   "id": "fa4821ee",
   "metadata": {},
   "source": [
    "This analysis has given more insight on what needs to be explored. Further categories need to be explored in order to determine the cost of the boat.\n",
    "The dark purple cluster returned best stats out of the others. The median number of lengths, width and price is highest and significantly larger than the other four. "
   ]
  },
  {
   "cell_type": "code",
   "execution_count": 56,
   "id": "2a1d370d",
   "metadata": {},
   "outputs": [],
   "source": []
  },
  {
   "cell_type": "code",
   "execution_count": null,
   "id": "a4565c05",
   "metadata": {},
   "outputs": [],
   "source": []
  }
 ],
 "metadata": {
  "kernelspec": {
   "display_name": "Python 3 (ipykernel)",
   "language": "python",
   "name": "python3"
  },
  "language_info": {
   "codemirror_mode": {
    "name": "ipython",
    "version": 3
   },
   "file_extension": ".py",
   "mimetype": "text/x-python",
   "name": "python",
   "nbconvert_exporter": "python",
   "pygments_lexer": "ipython3",
   "version": "3.9.12"
  }
 },
 "nbformat": 4,
 "nbformat_minor": 5
}
