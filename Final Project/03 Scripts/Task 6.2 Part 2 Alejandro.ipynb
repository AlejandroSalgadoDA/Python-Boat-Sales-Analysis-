{
 "cells": [
  {
   "cell_type": "markdown",
   "id": "4943fbd4",
   "metadata": {},
   "source": [
    "# Table of Contents \n",
    "## 1 Import Libraries\n",
    "## 2 Import Data \n",
    "## 5 Categorical Plot \n",
    "## 6 Question and Answers\n",
    "## 7 Hypothesis\n",
    "## 8 Export Data "
   ]
  },
  {
   "cell_type": "markdown",
   "id": "047a1bb5",
   "metadata": {},
   "source": [
    "# Import Libraries"
   ]
  },
  {
   "cell_type": "code",
   "execution_count": 2,
   "id": "eb32a46d",
   "metadata": {},
   "outputs": [],
   "source": [
    "import pandas as pd\n",
    "import numpy as np\n",
    "import seaborn as sns\n",
    "import matplotlib.pyplot as plt\n",
    "import matplotlib\n",
    "import os"
   ]
  },
  {
   "cell_type": "markdown",
   "id": "8143c250",
   "metadata": {},
   "source": [
    "# Import Data "
   ]
  },
  {
   "cell_type": "code",
   "execution_count": 3,
   "id": "88e984be",
   "metadata": {},
   "outputs": [],
   "source": [
    "# Create a path \n",
    "path = r'/Users/alejandrosalgado/Desktop/Final Project'"
   ]
  },
  {
   "cell_type": "code",
   "execution_count": 4,
   "id": "39795131",
   "metadata": {},
   "outputs": [],
   "source": [
    "df = pd.read_pickle(r'/Users/alejandrosalgado/Desktop/Final Project/Boat_Orders_clean.pkl')"
   ]
  },
  {
   "cell_type": "code",
   "execution_count": 4,
   "id": "f58e9374",
   "metadata": {},
   "outputs": [
    {
     "data": {
      "text/html": [
       "<div>\n",
       "<style scoped>\n",
       "    .dataframe tbody tr th:only-of-type {\n",
       "        vertical-align: middle;\n",
       "    }\n",
       "\n",
       "    .dataframe tbody tr th {\n",
       "        vertical-align: top;\n",
       "    }\n",
       "\n",
       "    .dataframe thead th {\n",
       "        text-align: right;\n",
       "    }\n",
       "</style>\n",
       "<table border=\"1\" class=\"dataframe\">\n",
       "  <thead>\n",
       "    <tr style=\"text-align: right;\">\n",
       "      <th></th>\n",
       "      <th>Boat Type</th>\n",
       "      <th>Manufacturer</th>\n",
       "      <th>Type</th>\n",
       "      <th>Year Built</th>\n",
       "      <th>Length</th>\n",
       "      <th>Width</th>\n",
       "      <th>Material</th>\n",
       "      <th>Number of views last 7 days</th>\n",
       "      <th>Country</th>\n",
       "      <th>City</th>\n",
       "      <th>USD_price</th>\n",
       "      <th>Pricing Category</th>\n",
       "    </tr>\n",
       "  </thead>\n",
       "  <tbody>\n",
       "    <tr>\n",
       "      <th>0</th>\n",
       "      <td>Center console boat</td>\n",
       "      <td>Terhi power boats</td>\n",
       "      <td>new boat from stock</td>\n",
       "      <td>2020</td>\n",
       "      <td>4.00</td>\n",
       "      <td>1.50</td>\n",
       "      <td>Thermoplastic</td>\n",
       "      <td>75</td>\n",
       "      <td>Germany</td>\n",
       "      <td>BÃ¶nningstedt</td>\n",
       "      <td>3699.40</td>\n",
       "      <td>Low-priced</td>\n",
       "    </tr>\n",
       "    <tr>\n",
       "      <th>1</th>\n",
       "      <td>Fishing Boat</td>\n",
       "      <td>Linder power boats</td>\n",
       "      <td>new boat from stock</td>\n",
       "      <td>2019</td>\n",
       "      <td>3.55</td>\n",
       "      <td>1.46</td>\n",
       "      <td>Aluminium</td>\n",
       "      <td>58</td>\n",
       "      <td>Germany</td>\n",
       "      <td>Bayern</td>\n",
       "      <td>3602.94</td>\n",
       "      <td>Low-priced</td>\n",
       "    </tr>\n",
       "    <tr>\n",
       "      <th>2</th>\n",
       "      <td>Fishing Boat</td>\n",
       "      <td>Terhi power boats</td>\n",
       "      <td>Used boat,Electric</td>\n",
       "      <td>1987</td>\n",
       "      <td>4.35</td>\n",
       "      <td>1.75</td>\n",
       "      <td>GRP</td>\n",
       "      <td>239</td>\n",
       "      <td>Switzerland</td>\n",
       "      <td>Seengen</td>\n",
       "      <td>3780.00</td>\n",
       "      <td>Low-priced</td>\n",
       "    </tr>\n",
       "    <tr>\n",
       "      <th>3</th>\n",
       "      <td>Sport Boat</td>\n",
       "      <td>GS Nautica power boats</td>\n",
       "      <td>Used boat</td>\n",
       "      <td>2004</td>\n",
       "      <td>4.70</td>\n",
       "      <td>2.00</td>\n",
       "      <td>GRP</td>\n",
       "      <td>69</td>\n",
       "      <td>Italy</td>\n",
       "      <td>Lake Garda</td>\n",
       "      <td>3710.00</td>\n",
       "      <td>Low-priced</td>\n",
       "    </tr>\n",
       "    <tr>\n",
       "      <th>4</th>\n",
       "      <td>Runabout</td>\n",
       "      <td>Kimple power boats</td>\n",
       "      <td>new boat from stock</td>\n",
       "      <td>2020</td>\n",
       "      <td>4.40</td>\n",
       "      <td>1.65</td>\n",
       "      <td>Aluminium</td>\n",
       "      <td>113</td>\n",
       "      <td>Switzerland</td>\n",
       "      <td>Zugersee</td>\n",
       "      <td>4968.00</td>\n",
       "      <td>Low-priced</td>\n",
       "    </tr>\n",
       "  </tbody>\n",
       "</table>\n",
       "</div>"
      ],
      "text/plain": [
       "             Boat Type            Manufacturer                 Type  \\\n",
       "0  Center console boat       Terhi power boats  new boat from stock   \n",
       "1         Fishing Boat      Linder power boats  new boat from stock   \n",
       "2         Fishing Boat       Terhi power boats   Used boat,Electric   \n",
       "3           Sport Boat  GS Nautica power boats            Used boat   \n",
       "4             Runabout      Kimple power boats  new boat from stock   \n",
       "\n",
       "   Year Built  Length  Width       Material  Number of views last 7 days  \\\n",
       "0        2020    4.00   1.50  Thermoplastic                           75   \n",
       "1        2019    3.55   1.46      Aluminium                           58   \n",
       "2        1987    4.35   1.75            GRP                          239   \n",
       "3        2004    4.70   2.00            GRP                           69   \n",
       "4        2020    4.40   1.65      Aluminium                          113   \n",
       "\n",
       "        Country            City  USD_price Pricing Category  \n",
       "0      Germany    BÃ¶nningstedt    3699.40       Low-priced  \n",
       "1      Germany          Bayern     3602.94       Low-priced  \n",
       "2  Switzerland          Seengen    3780.00       Low-priced  \n",
       "3        Italy      Lake Garda     3710.00       Low-priced  \n",
       "4  Switzerland        Zugersee     4968.00       Low-priced  "
      ]
     },
     "execution_count": 4,
     "metadata": {},
     "output_type": "execute_result"
    }
   ],
   "source": [
    "df.head()"
   ]
  },
  {
   "cell_type": "markdown",
   "id": "37fd23c5",
   "metadata": {},
   "source": [
    "# 5 Categorical Plots Cont."
   ]
  },
  {
   "cell_type": "code",
   "execution_count": 7,
   "id": "e639ddd7",
   "metadata": {},
   "outputs": [
    {
     "data": {
      "image/png": "[encoded data removed]",
      "text/plain": [
       "<Figure size 457.35x360 with 1 Axes>"
      ]
     },
     "metadata": {},
     "output_type": "display_data"
    }
   ],
   "source": [
    "# Creating a categorical plot crossing the number of views with related variables\n",
    "sns.set(style='ticks')\n",
    "g = sns.catplot(x='Number of views last 7 days', y='USD_price', hue = 'Pricing Category', data = df)"
   ]
  },
  {
   "cell_type": "code",
   "execution_count": 8,
   "id": "c7da03be",
   "metadata": {},
   "outputs": [
    {
     "data": {
      "text/plain": [
       "GRP              4223\n",
       "PVC              1001\n",
       "Steel             399\n",
       "Wood              145\n",
       "Aluminium         121\n",
       "Plastic            68\n",
       "Carbon Fiber       26\n",
       "Thermoplastic      13\n",
       "Hypalon             4\n",
       "Rubber              1\n",
       "Name: Material, dtype: int64"
      ]
     },
     "execution_count": 8,
     "metadata": {},
     "output_type": "execute_result"
    }
   ],
   "source": [
    "df['Material'].value_counts(dropna=False)"
   ]
  },
  {
   "cell_type": "code",
   "execution_count": 9,
   "id": "d148313b",
   "metadata": {},
   "outputs": [
    {
     "data": {
      "image/png": "[encoded data removed]",
      "text/plain": [
       "<Figure size 457.35x360 with 1 Axes>"
      ]
     },
     "metadata": {},
     "output_type": "display_data"
    }
   ],
   "source": [
    "# Creating a categorical plot crossing the number of views with boat material\n",
    "sns.set(style='ticks')\n",
    "g = sns.catplot(x='Number of views last 7 days', y='Material', hue = 'Pricing Category', data = df)"
   ]
  },
  {
   "cell_type": "code",
   "execution_count": 10,
   "id": "c5cfe6d8",
   "metadata": {},
   "outputs": [
    {
     "data": {
      "text/plain": [
       "Germany                         1209\n",
       "Italy                            918\n",
       "Switzerland                      900\n",
       "France                           870\n",
       "Spain                            508\n",
       "Croatia (Hrvatska)               472\n",
       "Netherlands                      417\n",
       "United Kingdom                   139\n",
       "Portugal                         115\n",
       "Austria                           66\n",
       "Denmark                           63\n",
       "Greece                            41\n",
       "Turkey                            41\n",
       "Belgium                           40\n",
       "Malta                             25\n",
       "Slovenia                          25\n",
       "Poland                            23\n",
       "Finland                           22\n",
       "Sweden                            13\n",
       "Montenegro                        12\n",
       "Slovak Republic                    9\n",
       "Lake Constance                     9\n",
       "Lake Geneva                        6\n",
       "Monaco                             6\n",
       "Cyprus                             5\n",
       "Hungary                            4\n",
       "United States                      4\n",
       "Estonia                            4\n",
       "Russian Federation                 4\n",
       "Donau                              3\n",
       "Czech Republic                     3\n",
       "Ostsee                             2\n",
       "Thailand                           2\n",
       "Martinique                         2\n",
       "Latvia                             2\n",
       "Australia                          2\n",
       "Bulgaria                           2\n",
       "Taiwan                             1\n",
       "Egypt                              1\n",
       "Ireland                            1\n",
       "French Southern Territories        1\n",
       "Seychelles                         1\n",
       "Morocco                            1\n",
       "Lebanon                            1\n",
       "Serbia                             1\n",
       "Oder                               1\n",
       "Lithuania                          1\n",
       "Isle of Man                        1\n",
       "Romania                            1\n",
       "Lago Maggiore                      1\n",
       "Name: Country, dtype: int64"
      ]
     },
     "execution_count": 10,
     "metadata": {},
     "output_type": "execute_result"
    }
   ],
   "source": [
    "df['Country'].value_counts(dropna=False)"
   ]
  },
  {
   "cell_type": "markdown",
   "id": "874e53f6",
   "metadata": {},
   "source": [
    "# 6 Questions and Answers"
   ]
  },
  {
   "cell_type": "markdown",
   "id": "41d4f404",
   "metadata": {},
   "source": [
    "What is the location of the most viewed boat? Germany is number 1\n",
    "Characteristics of the most viewed boat listings in the last 7 days? If the boat costs more than $100,000 then it will get more views\n",
    "Do expensive boats get the most views? Older boats get the most views. Expensive boats do get a lot of views. \n",
    "Are there common features among the most viewed boats? GRP is the material most used in boats. Older boats that cost $100,000 or more tend to get more views. "
   ]
  },
  {
   "cell_type": "markdown",
   "id": "76d145ce",
   "metadata": {},
   "source": [
    "# 7 Hypothesis"
   ]
  },
  {
   "cell_type": "markdown",
   "id": "07436b1b",
   "metadata": {},
   "source": [
    "If a boat is an older model, then it will generate more views.\n",
    "\n",
    "If a boat costs $100,000 or more, then it will generate more we traffic and get more views."
   ]
  },
  {
   "cell_type": "markdown",
   "id": "521e9480",
   "metadata": {},
   "source": [
    "# 8 Export Data "
   ]
  },
  {
   "cell_type": "code",
   "execution_count": 15,
   "id": "92cd541e",
   "metadata": {},
   "outputs": [],
   "source": [
    "# Export data to pkl\n",
    "df.to_pickle(os.path.join(path,'Boat_Orders_clean_2.pkl'))"
   ]
  },
  {
   "cell_type": "code",
   "execution_count": 5,
   "id": "172b3bbb",
   "metadata": {},
   "outputs": [
    {
     "data": {
      "text/plain": [
       "'/Users/alejandrosalgado/Desktop/Final Project/Boat_Orders_clean_2.pkl'"
      ]
     },
     "execution_count": 5,
     "metadata": {},
     "output_type": "execute_result"
    }
   ],
   "source": [
    "(os.path.join(path,'Boat_Orders_clean_2.pkl'))"
   ]
  },
  {
   "cell_type": "code",
   "execution_count": null,
   "id": "3367730f",
   "metadata": {},
   "outputs": [],
   "source": []
  }
 ],
 "metadata": {
  "kernelspec": {
   "display_name": "Python 3 (ipykernel)",
   "language": "python",
   "name": "python3"
  },
  "language_info": {
   "codemirror_mode": {
    "name": "ipython",
    "version": 3
   },
   "file_extension": ".py",
   "mimetype": "text/x-python",
   "name": "python",
   "nbconvert_exporter": "python",
   "pygments_lexer": "ipython3",
   "version": "3.9.12"
  }
 },
 "nbformat": 4,
 "nbformat_minor": 5
}
