{
 "cells": [
  {
   "cell_type": "markdown",
   "id": "e305832f",
   "metadata": {},
   "source": [
    "# Table of Contents\n",
    "## 1. Import libraries\n",
    "## 2. Import Data\n",
    "## 3. Data Check\n",
    "## 4. Data Wrangling \n",
    "## 5. Cleaning the Data"
   ]
  },
  {
   "cell_type": "markdown",
   "id": "c95b5df9",
   "metadata": {},
   "source": [
    "# 1 Import Libraries"
   ]
  },
  {
   "cell_type": "code",
   "execution_count": 43,
   "id": "0055c154",
   "metadata": {},
   "outputs": [],
   "source": [
    "# Import libraries\n",
    "import pandas as pd\n",
    "import numpy as np\n",
    "import os"
   ]
  },
  {
   "cell_type": "markdown",
   "id": "dba07383",
   "metadata": {},
   "source": [
    "# 2 Import Data "
   ]
  },
  {
   "cell_type": "code",
   "execution_count": 44,
   "id": "5d0e8b9e",
   "metadata": {},
   "outputs": [],
   "source": [
    "# Create a path \n",
    "path = r'/Users/alejandrosalgado/Desktop/Final Project'"
   ]
  },
  {
   "cell_type": "code",
   "execution_count": 45,
   "id": "2f1cf02f",
   "metadata": {},
   "outputs": [],
   "source": [
    "df = pd.read_csv(r'/Users/alejandrosalgado/Desktop/Final Project/02 Data /Original Data /6.1 boat_data.csv', index_col = False)"
   ]
  },
  {
   "cell_type": "markdown",
   "id": "687c6649",
   "metadata": {},
   "source": [
    "# 3 Data Check"
   ]
  },
  {
   "cell_type": "code",
   "execution_count": 9,
   "id": "a8ec270c",
   "metadata": {},
   "outputs": [
    {
     "data": {
      "text/html": [
       "<div>\n",
       "<style scoped>\n",
       "    .dataframe tbody tr th:only-of-type {\n",
       "        vertical-align: middle;\n",
       "    }\n",
       "\n",
       "    .dataframe tbody tr th {\n",
       "        vertical-align: top;\n",
       "    }\n",
       "\n",
       "    .dataframe thead th {\n",
       "        text-align: right;\n",
       "    }\n",
       "</style>\n",
       "<table border=\"1\" class=\"dataframe\">\n",
       "  <thead>\n",
       "    <tr style=\"text-align: right;\">\n",
       "      <th></th>\n",
       "      <th>Price</th>\n",
       "      <th>Boat Type</th>\n",
       "      <th>Manufacturer</th>\n",
       "      <th>Type</th>\n",
       "      <th>Year Built</th>\n",
       "      <th>Length</th>\n",
       "      <th>Width</th>\n",
       "      <th>Material</th>\n",
       "      <th>Location</th>\n",
       "      <th>Number of views last 7 days</th>\n",
       "    </tr>\n",
       "  </thead>\n",
       "  <tbody>\n",
       "    <tr>\n",
       "      <th>0</th>\n",
       "      <td>CHF 3337</td>\n",
       "      <td>Motor Yacht</td>\n",
       "      <td>Rigiflex power boats</td>\n",
       "      <td>new boat from stock</td>\n",
       "      <td>2017</td>\n",
       "      <td>4.00</td>\n",
       "      <td>1.90</td>\n",
       "      <td>NaN</td>\n",
       "      <td>Switzerland Â» Lake Geneva Â» VÃ©senaz</td>\n",
       "      <td>226</td>\n",
       "    </tr>\n",
       "    <tr>\n",
       "      <th>1</th>\n",
       "      <td>EUR 3490</td>\n",
       "      <td>Center console boat</td>\n",
       "      <td>Terhi power boats</td>\n",
       "      <td>new boat from stock</td>\n",
       "      <td>2020</td>\n",
       "      <td>4.00</td>\n",
       "      <td>1.50</td>\n",
       "      <td>Thermoplastic</td>\n",
       "      <td>Germany Â» BÃ¶nningstedt</td>\n",
       "      <td>75</td>\n",
       "    </tr>\n",
       "    <tr>\n",
       "      <th>2</th>\n",
       "      <td>CHF 3770</td>\n",
       "      <td>Sport Boat</td>\n",
       "      <td>Marine power boats</td>\n",
       "      <td>new boat from stock</td>\n",
       "      <td>0</td>\n",
       "      <td>3.69</td>\n",
       "      <td>1.42</td>\n",
       "      <td>Aluminium</td>\n",
       "      <td>Switzerland Â» Lake of Zurich Â» StÃ¤fa ZH</td>\n",
       "      <td>124</td>\n",
       "    </tr>\n",
       "    <tr>\n",
       "      <th>3</th>\n",
       "      <td>DKK 25900</td>\n",
       "      <td>Sport Boat</td>\n",
       "      <td>Pioner power boats</td>\n",
       "      <td>new boat from stock</td>\n",
       "      <td>2020</td>\n",
       "      <td>3.00</td>\n",
       "      <td>1.00</td>\n",
       "      <td>NaN</td>\n",
       "      <td>Denmark Â» Svendborg</td>\n",
       "      <td>64</td>\n",
       "    </tr>\n",
       "    <tr>\n",
       "      <th>4</th>\n",
       "      <td>EUR 3399</td>\n",
       "      <td>Fishing Boat</td>\n",
       "      <td>Linder power boats</td>\n",
       "      <td>new boat from stock</td>\n",
       "      <td>2019</td>\n",
       "      <td>3.55</td>\n",
       "      <td>1.46</td>\n",
       "      <td>Aluminium</td>\n",
       "      <td>Germany Â» Bayern Â» MÃ¼nchen</td>\n",
       "      <td>58</td>\n",
       "    </tr>\n",
       "  </tbody>\n",
       "</table>\n",
       "</div>"
      ],
      "text/plain": [
       "       Price            Boat Type          Manufacturer                 Type  \\\n",
       "0   CHF 3337          Motor Yacht  Rigiflex power boats  new boat from stock   \n",
       "1   EUR 3490  Center console boat     Terhi power boats  new boat from stock   \n",
       "2   CHF 3770           Sport Boat    Marine power boats  new boat from stock   \n",
       "3  DKK 25900           Sport Boat    Pioner power boats  new boat from stock   \n",
       "4   EUR 3399         Fishing Boat    Linder power boats  new boat from stock   \n",
       "\n",
       "   Year Built  Length  Width       Material  \\\n",
       "0        2017    4.00   1.90            NaN   \n",
       "1        2020    4.00   1.50  Thermoplastic   \n",
       "2           0    3.69   1.42      Aluminium   \n",
       "3        2020    3.00   1.00            NaN   \n",
       "4        2019    3.55   1.46      Aluminium   \n",
       "\n",
       "                                     Location  Number of views last 7 days  \n",
       "0      Switzerland Â» Lake Geneva Â» VÃ©senaz                          226  \n",
       "1                    Germany Â» BÃ¶nningstedt                           75  \n",
       "2  Switzerland Â» Lake of Zurich Â» StÃ¤fa ZH                          124  \n",
       "3                        Denmark Â» Svendborg                           64  \n",
       "4               Germany Â» Bayern Â» MÃ¼nchen                           58  "
      ]
     },
     "execution_count": 9,
     "metadata": {},
     "output_type": "execute_result"
    }
   ],
   "source": [
    "df.head()"
   ]
  },
  {
   "cell_type": "code",
   "execution_count": 10,
   "id": "4ce208fc",
   "metadata": {},
   "outputs": [
    {
     "data": {
      "text/html": [
       "<div>\n",
       "<style scoped>\n",
       "    .dataframe tbody tr th:only-of-type {\n",
       "        vertical-align: middle;\n",
       "    }\n",
       "\n",
       "    .dataframe tbody tr th {\n",
       "        vertical-align: top;\n",
       "    }\n",
       "\n",
       "    .dataframe thead th {\n",
       "        text-align: right;\n",
       "    }\n",
       "</style>\n",
       "<table border=\"1\" class=\"dataframe\">\n",
       "  <thead>\n",
       "    <tr style=\"text-align: right;\">\n",
       "      <th></th>\n",
       "      <th>Year Built</th>\n",
       "      <th>Length</th>\n",
       "      <th>Width</th>\n",
       "      <th>Number of views last 7 days</th>\n",
       "    </tr>\n",
       "  </thead>\n",
       "  <tbody>\n",
       "    <tr>\n",
       "      <th>count</th>\n",
       "      <td>9888.000000</td>\n",
       "      <td>9879.000000</td>\n",
       "      <td>9832.000000</td>\n",
       "      <td>9888.000000</td>\n",
       "    </tr>\n",
       "    <tr>\n",
       "      <th>mean</th>\n",
       "      <td>1893.192860</td>\n",
       "      <td>11.570017</td>\n",
       "      <td>3.520124</td>\n",
       "      <td>149.160801</td>\n",
       "    </tr>\n",
       "    <tr>\n",
       "      <th>std</th>\n",
       "      <td>460.201582</td>\n",
       "      <td>6.002820</td>\n",
       "      <td>1.220534</td>\n",
       "      <td>151.819752</td>\n",
       "    </tr>\n",
       "    <tr>\n",
       "      <th>min</th>\n",
       "      <td>0.000000</td>\n",
       "      <td>1.040000</td>\n",
       "      <td>0.010000</td>\n",
       "      <td>13.000000</td>\n",
       "    </tr>\n",
       "    <tr>\n",
       "      <th>25%</th>\n",
       "      <td>1996.000000</td>\n",
       "      <td>7.470000</td>\n",
       "      <td>2.540000</td>\n",
       "      <td>70.000000</td>\n",
       "    </tr>\n",
       "    <tr>\n",
       "      <th>50%</th>\n",
       "      <td>2007.000000</td>\n",
       "      <td>10.280000</td>\n",
       "      <td>3.330000</td>\n",
       "      <td>108.000000</td>\n",
       "    </tr>\n",
       "    <tr>\n",
       "      <th>75%</th>\n",
       "      <td>2017.000000</td>\n",
       "      <td>13.930000</td>\n",
       "      <td>4.250000</td>\n",
       "      <td>172.000000</td>\n",
       "    </tr>\n",
       "    <tr>\n",
       "      <th>max</th>\n",
       "      <td>2021.000000</td>\n",
       "      <td>100.000000</td>\n",
       "      <td>25.160000</td>\n",
       "      <td>3263.000000</td>\n",
       "    </tr>\n",
       "  </tbody>\n",
       "</table>\n",
       "</div>"
      ],
      "text/plain": [
       "        Year Built       Length        Width  Number of views last 7 days\n",
       "count  9888.000000  9879.000000  9832.000000                  9888.000000\n",
       "mean   1893.192860    11.570017     3.520124                   149.160801\n",
       "std     460.201582     6.002820     1.220534                   151.819752\n",
       "min       0.000000     1.040000     0.010000                    13.000000\n",
       "25%    1996.000000     7.470000     2.540000                    70.000000\n",
       "50%    2007.000000    10.280000     3.330000                   108.000000\n",
       "75%    2017.000000    13.930000     4.250000                   172.000000\n",
       "max    2021.000000   100.000000    25.160000                  3263.000000"
      ]
     },
     "execution_count": 10,
     "metadata": {},
     "output_type": "execute_result"
    }
   ],
   "source": [
    "df.describe()"
   ]
  },
  {
   "cell_type": "code",
   "execution_count": 11,
   "id": "f902821a",
   "metadata": {},
   "outputs": [
    {
     "data": {
      "text/plain": [
       "(9888, 10)"
      ]
     },
     "execution_count": 11,
     "metadata": {},
     "output_type": "execute_result"
    }
   ],
   "source": [
    "df.shape"
   ]
  },
  {
   "cell_type": "code",
   "execution_count": 12,
   "id": "f26442de",
   "metadata": {},
   "outputs": [
    {
     "name": "stdout",
     "output_type": "stream",
     "text": [
      "<class 'pandas.core.frame.DataFrame'>\n",
      "RangeIndex: 9888 entries, 0 to 9887\n",
      "Data columns (total 10 columns):\n",
      " #   Column                       Non-Null Count  Dtype  \n",
      "---  ------                       --------------  -----  \n",
      " 0   Price                        9888 non-null   object \n",
      " 1   Boat Type                    9888 non-null   object \n",
      " 2   Manufacturer                 8550 non-null   object \n",
      " 3   Type                         9882 non-null   object \n",
      " 4   Year Built                   9888 non-null   int64  \n",
      " 5   Length                       9879 non-null   float64\n",
      " 6   Width                        9832 non-null   float64\n",
      " 7   Material                     8139 non-null   object \n",
      " 8   Location                     9852 non-null   object \n",
      " 9   Number of views last 7 days  9888 non-null   int64  \n",
      "dtypes: float64(2), int64(2), object(6)\n",
      "memory usage: 772.6+ KB\n"
     ]
    }
   ],
   "source": [
    "df.info()"
   ]
  },
  {
   "cell_type": "markdown",
   "id": "0c6e0b43",
   "metadata": {},
   "source": [
    "# 4 Data Wrangling "
   ]
  },
  {
   "cell_type": "code",
   "execution_count": 14,
   "id": "1d16ebd8",
   "metadata": {},
   "outputs": [],
   "source": [
    "# New comlumns separating Country City Standing Point \n",
    "df[['Country','City','Standing_point']]= df['Location'].str.split('Â»', 2, expand=True)"
   ]
  },
  {
   "cell_type": "code",
   "execution_count": 15,
   "id": "bae1db1d",
   "metadata": {},
   "outputs": [
    {
     "data": {
      "text/html": [
       "<div>\n",
       "<style scoped>\n",
       "    .dataframe tbody tr th:only-of-type {\n",
       "        vertical-align: middle;\n",
       "    }\n",
       "\n",
       "    .dataframe tbody tr th {\n",
       "        vertical-align: top;\n",
       "    }\n",
       "\n",
       "    .dataframe thead th {\n",
       "        text-align: right;\n",
       "    }\n",
       "</style>\n",
       "<table border=\"1\" class=\"dataframe\">\n",
       "  <thead>\n",
       "    <tr style=\"text-align: right;\">\n",
       "      <th></th>\n",
       "      <th>Price</th>\n",
       "      <th>Boat Type</th>\n",
       "      <th>Manufacturer</th>\n",
       "      <th>Type</th>\n",
       "      <th>Year Built</th>\n",
       "      <th>Length</th>\n",
       "      <th>Width</th>\n",
       "      <th>Material</th>\n",
       "      <th>Location</th>\n",
       "      <th>Number of views last 7 days</th>\n",
       "      <th>Country</th>\n",
       "      <th>City</th>\n",
       "      <th>Standing_point</th>\n",
       "    </tr>\n",
       "  </thead>\n",
       "  <tbody>\n",
       "    <tr>\n",
       "      <th>0</th>\n",
       "      <td>CHF 3337</td>\n",
       "      <td>Motor Yacht</td>\n",
       "      <td>Rigiflex power boats</td>\n",
       "      <td>new boat from stock</td>\n",
       "      <td>2017</td>\n",
       "      <td>4.00</td>\n",
       "      <td>1.90</td>\n",
       "      <td>NaN</td>\n",
       "      <td>Switzerland Â» Lake Geneva Â» VÃ©senaz</td>\n",
       "      <td>226</td>\n",
       "      <td>Switzerland</td>\n",
       "      <td>Lake Geneva</td>\n",
       "      <td>VÃ©senaz</td>\n",
       "    </tr>\n",
       "    <tr>\n",
       "      <th>1</th>\n",
       "      <td>EUR 3490</td>\n",
       "      <td>Center console boat</td>\n",
       "      <td>Terhi power boats</td>\n",
       "      <td>new boat from stock</td>\n",
       "      <td>2020</td>\n",
       "      <td>4.00</td>\n",
       "      <td>1.50</td>\n",
       "      <td>Thermoplastic</td>\n",
       "      <td>Germany Â» BÃ¶nningstedt</td>\n",
       "      <td>75</td>\n",
       "      <td>Germany</td>\n",
       "      <td>BÃ¶nningstedt</td>\n",
       "      <td>None</td>\n",
       "    </tr>\n",
       "    <tr>\n",
       "      <th>2</th>\n",
       "      <td>CHF 3770</td>\n",
       "      <td>Sport Boat</td>\n",
       "      <td>Marine power boats</td>\n",
       "      <td>new boat from stock</td>\n",
       "      <td>0</td>\n",
       "      <td>3.69</td>\n",
       "      <td>1.42</td>\n",
       "      <td>Aluminium</td>\n",
       "      <td>Switzerland Â» Lake of Zurich Â» StÃ¤fa ZH</td>\n",
       "      <td>124</td>\n",
       "      <td>Switzerland</td>\n",
       "      <td>Lake of Zurich</td>\n",
       "      <td>StÃ¤fa ZH</td>\n",
       "    </tr>\n",
       "    <tr>\n",
       "      <th>3</th>\n",
       "      <td>DKK 25900</td>\n",
       "      <td>Sport Boat</td>\n",
       "      <td>Pioner power boats</td>\n",
       "      <td>new boat from stock</td>\n",
       "      <td>2020</td>\n",
       "      <td>3.00</td>\n",
       "      <td>1.00</td>\n",
       "      <td>NaN</td>\n",
       "      <td>Denmark Â» Svendborg</td>\n",
       "      <td>64</td>\n",
       "      <td>Denmark</td>\n",
       "      <td>Svendborg</td>\n",
       "      <td>None</td>\n",
       "    </tr>\n",
       "    <tr>\n",
       "      <th>4</th>\n",
       "      <td>EUR 3399</td>\n",
       "      <td>Fishing Boat</td>\n",
       "      <td>Linder power boats</td>\n",
       "      <td>new boat from stock</td>\n",
       "      <td>2019</td>\n",
       "      <td>3.55</td>\n",
       "      <td>1.46</td>\n",
       "      <td>Aluminium</td>\n",
       "      <td>Germany Â» Bayern Â» MÃ¼nchen</td>\n",
       "      <td>58</td>\n",
       "      <td>Germany</td>\n",
       "      <td>Bayern</td>\n",
       "      <td>MÃ¼nchen</td>\n",
       "    </tr>\n",
       "  </tbody>\n",
       "</table>\n",
       "</div>"
      ],
      "text/plain": [
       "       Price            Boat Type          Manufacturer                 Type  \\\n",
       "0   CHF 3337          Motor Yacht  Rigiflex power boats  new boat from stock   \n",
       "1   EUR 3490  Center console boat     Terhi power boats  new boat from stock   \n",
       "2   CHF 3770           Sport Boat    Marine power boats  new boat from stock   \n",
       "3  DKK 25900           Sport Boat    Pioner power boats  new boat from stock   \n",
       "4   EUR 3399         Fishing Boat    Linder power boats  new boat from stock   \n",
       "\n",
       "   Year Built  Length  Width       Material  \\\n",
       "0        2017    4.00   1.90            NaN   \n",
       "1        2020    4.00   1.50  Thermoplastic   \n",
       "2           0    3.69   1.42      Aluminium   \n",
       "3        2020    3.00   1.00            NaN   \n",
       "4        2019    3.55   1.46      Aluminium   \n",
       "\n",
       "                                     Location  Number of views last 7 days  \\\n",
       "0      Switzerland Â» Lake Geneva Â» VÃ©senaz                          226   \n",
       "1                    Germany Â» BÃ¶nningstedt                           75   \n",
       "2  Switzerland Â» Lake of Zurich Â» StÃ¤fa ZH                          124   \n",
       "3                        Denmark Â» Svendborg                           64   \n",
       "4               Germany Â» Bayern Â» MÃ¼nchen                           58   \n",
       "\n",
       "        Country              City Standing_point  \n",
       "0  Switzerland       Lake Geneva        VÃ©senaz  \n",
       "1      Germany      BÃ¶nningstedt           None  \n",
       "2  Switzerland    Lake of Zurich       StÃ¤fa ZH  \n",
       "3      Denmark          Svendborg           None  \n",
       "4      Germany            Bayern        MÃ¼nchen  "
      ]
     },
     "execution_count": 15,
     "metadata": {},
     "output_type": "execute_result"
    }
   ],
   "source": [
    "df.head()"
   ]
  },
  {
   "cell_type": "code",
   "execution_count": 16,
   "id": "5793c082",
   "metadata": {},
   "outputs": [],
   "source": [
    "# Change the currency to the same unit\n",
    "df['Currency'] = df.loc[:,'Price'].str.slice(0,3)"
   ]
  },
  {
   "cell_type": "code",
   "execution_count": 18,
   "id": "a802cad7",
   "metadata": {
    "scrolled": false
   },
   "outputs": [
    {
     "data": {
      "text/plain": [
       "EUR    8430\n",
       "CHF     980\n",
       "Â£      298\n",
       "DKK     180\n",
       "Name: Currency, dtype: int64"
      ]
     },
     "execution_count": 18,
     "metadata": {},
     "output_type": "execute_result"
    }
   ],
   "source": [
    "# Count of curreny used\n",
    "df['Currency'].value_counts(dropna = False)"
   ]
  },
  {
   "cell_type": "code",
   "execution_count": 19,
   "id": "d4126c1e",
   "metadata": {},
   "outputs": [
    {
     "name": "stderr",
     "output_type": "stream",
     "text": [
      "/var/folders/wk/r4fv1r8s1kz3ksnb_nsqv6bc0000gn/T/ipykernel_82961/2924858916.py:2: FutureWarning: The default value of regex will change from True to False in a future version.\n",
      "  df['Price'] = df['Price'].str.replace(r'[A-Z\\D\\W]', '')\n"
     ]
    }
   ],
   "source": [
    "# Split the price \n",
    "df['Price'] = df['Price'].str.replace(r'[A-Z\\D\\W]', '')"
   ]
  },
  {
   "cell_type": "code",
   "execution_count": 20,
   "id": "93f31c97",
   "metadata": {},
   "outputs": [],
   "source": [
    "# Change data type of price to interger\n",
    "df['Price'] = df['Price'].astype('int')"
   ]
  },
  {
   "cell_type": "code",
   "execution_count": 22,
   "id": "fb13bf8f",
   "metadata": {},
   "outputs": [],
   "source": [
    "# Convert the currency\n",
    "def usdprice(Price,Currency):\n",
    "    if Currency=='CHF':\n",
    "        return Price * 1.08\n",
    "    elif Currency=='DKK':\n",
    "        return Price * 0.14\n",
    "    elif Currency=='Â£':\n",
    "        return Price * 1.22\n",
    "    elif Currency=='EUR':\n",
    "        return Price * 1.06\n",
    "    else:\n",
    "        return Price\n",
    "df['USD_price'] = df.apply(lambda x: usdprice(x.Price, x.Currency), axis=1)"
   ]
  },
  {
   "cell_type": "code",
   "execution_count": 23,
   "id": "46d8a2ca",
   "metadata": {},
   "outputs": [
    {
     "data": {
      "text/html": [
       "<div>\n",
       "<style scoped>\n",
       "    .dataframe tbody tr th:only-of-type {\n",
       "        vertical-align: middle;\n",
       "    }\n",
       "\n",
       "    .dataframe tbody tr th {\n",
       "        vertical-align: top;\n",
       "    }\n",
       "\n",
       "    .dataframe thead th {\n",
       "        text-align: right;\n",
       "    }\n",
       "</style>\n",
       "<table border=\"1\" class=\"dataframe\">\n",
       "  <thead>\n",
       "    <tr style=\"text-align: right;\">\n",
       "      <th></th>\n",
       "      <th>Price</th>\n",
       "      <th>Boat Type</th>\n",
       "      <th>Manufacturer</th>\n",
       "      <th>Type</th>\n",
       "      <th>Year Built</th>\n",
       "      <th>Length</th>\n",
       "      <th>Width</th>\n",
       "      <th>Material</th>\n",
       "      <th>Location</th>\n",
       "      <th>Number of views last 7 days</th>\n",
       "      <th>Country</th>\n",
       "      <th>City</th>\n",
       "      <th>Standing_point</th>\n",
       "      <th>Currency</th>\n",
       "      <th>USD_price</th>\n",
       "    </tr>\n",
       "  </thead>\n",
       "  <tbody>\n",
       "    <tr>\n",
       "      <th>0</th>\n",
       "      <td>3337</td>\n",
       "      <td>Motor Yacht</td>\n",
       "      <td>Rigiflex power boats</td>\n",
       "      <td>new boat from stock</td>\n",
       "      <td>2017</td>\n",
       "      <td>4.00</td>\n",
       "      <td>1.90</td>\n",
       "      <td>NaN</td>\n",
       "      <td>Switzerland Â» Lake Geneva Â» VÃ©senaz</td>\n",
       "      <td>226</td>\n",
       "      <td>Switzerland</td>\n",
       "      <td>Lake Geneva</td>\n",
       "      <td>VÃ©senaz</td>\n",
       "      <td>CHF</td>\n",
       "      <td>3603.96</td>\n",
       "    </tr>\n",
       "    <tr>\n",
       "      <th>1</th>\n",
       "      <td>3490</td>\n",
       "      <td>Center console boat</td>\n",
       "      <td>Terhi power boats</td>\n",
       "      <td>new boat from stock</td>\n",
       "      <td>2020</td>\n",
       "      <td>4.00</td>\n",
       "      <td>1.50</td>\n",
       "      <td>Thermoplastic</td>\n",
       "      <td>Germany Â» BÃ¶nningstedt</td>\n",
       "      <td>75</td>\n",
       "      <td>Germany</td>\n",
       "      <td>BÃ¶nningstedt</td>\n",
       "      <td>None</td>\n",
       "      <td>EUR</td>\n",
       "      <td>3699.40</td>\n",
       "    </tr>\n",
       "    <tr>\n",
       "      <th>2</th>\n",
       "      <td>3770</td>\n",
       "      <td>Sport Boat</td>\n",
       "      <td>Marine power boats</td>\n",
       "      <td>new boat from stock</td>\n",
       "      <td>0</td>\n",
       "      <td>3.69</td>\n",
       "      <td>1.42</td>\n",
       "      <td>Aluminium</td>\n",
       "      <td>Switzerland Â» Lake of Zurich Â» StÃ¤fa ZH</td>\n",
       "      <td>124</td>\n",
       "      <td>Switzerland</td>\n",
       "      <td>Lake of Zurich</td>\n",
       "      <td>StÃ¤fa ZH</td>\n",
       "      <td>CHF</td>\n",
       "      <td>4071.60</td>\n",
       "    </tr>\n",
       "    <tr>\n",
       "      <th>3</th>\n",
       "      <td>25900</td>\n",
       "      <td>Sport Boat</td>\n",
       "      <td>Pioner power boats</td>\n",
       "      <td>new boat from stock</td>\n",
       "      <td>2020</td>\n",
       "      <td>3.00</td>\n",
       "      <td>1.00</td>\n",
       "      <td>NaN</td>\n",
       "      <td>Denmark Â» Svendborg</td>\n",
       "      <td>64</td>\n",
       "      <td>Denmark</td>\n",
       "      <td>Svendborg</td>\n",
       "      <td>None</td>\n",
       "      <td>DKK</td>\n",
       "      <td>3626.00</td>\n",
       "    </tr>\n",
       "    <tr>\n",
       "      <th>4</th>\n",
       "      <td>3399</td>\n",
       "      <td>Fishing Boat</td>\n",
       "      <td>Linder power boats</td>\n",
       "      <td>new boat from stock</td>\n",
       "      <td>2019</td>\n",
       "      <td>3.55</td>\n",
       "      <td>1.46</td>\n",
       "      <td>Aluminium</td>\n",
       "      <td>Germany Â» Bayern Â» MÃ¼nchen</td>\n",
       "      <td>58</td>\n",
       "      <td>Germany</td>\n",
       "      <td>Bayern</td>\n",
       "      <td>MÃ¼nchen</td>\n",
       "      <td>EUR</td>\n",
       "      <td>3602.94</td>\n",
       "    </tr>\n",
       "  </tbody>\n",
       "</table>\n",
       "</div>"
      ],
      "text/plain": [
       "   Price            Boat Type          Manufacturer                 Type  \\\n",
       "0   3337          Motor Yacht  Rigiflex power boats  new boat from stock   \n",
       "1   3490  Center console boat     Terhi power boats  new boat from stock   \n",
       "2   3770           Sport Boat    Marine power boats  new boat from stock   \n",
       "3  25900           Sport Boat    Pioner power boats  new boat from stock   \n",
       "4   3399         Fishing Boat    Linder power boats  new boat from stock   \n",
       "\n",
       "   Year Built  Length  Width       Material  \\\n",
       "0        2017    4.00   1.90            NaN   \n",
       "1        2020    4.00   1.50  Thermoplastic   \n",
       "2           0    3.69   1.42      Aluminium   \n",
       "3        2020    3.00   1.00            NaN   \n",
       "4        2019    3.55   1.46      Aluminium   \n",
       "\n",
       "                                     Location  Number of views last 7 days  \\\n",
       "0      Switzerland Â» Lake Geneva Â» VÃ©senaz                          226   \n",
       "1                    Germany Â» BÃ¶nningstedt                           75   \n",
       "2  Switzerland Â» Lake of Zurich Â» StÃ¤fa ZH                          124   \n",
       "3                        Denmark Â» Svendborg                           64   \n",
       "4               Germany Â» Bayern Â» MÃ¼nchen                           58   \n",
       "\n",
       "        Country              City Standing_point Currency  USD_price  \n",
       "0  Switzerland       Lake Geneva        VÃ©senaz      CHF    3603.96  \n",
       "1      Germany      BÃ¶nningstedt           None      EUR    3699.40  \n",
       "2  Switzerland    Lake of Zurich       StÃ¤fa ZH      CHF    4071.60  \n",
       "3      Denmark          Svendborg           None      DKK    3626.00  \n",
       "4      Germany            Bayern        MÃ¼nchen      EUR    3602.94  "
      ]
     },
     "execution_count": 23,
     "metadata": {},
     "output_type": "execute_result"
    }
   ],
   "source": [
    "# Check the dataframe\n",
    "df.head()"
   ]
  },
  {
   "cell_type": "code",
   "execution_count": 24,
   "id": "009ecf03",
   "metadata": {},
   "outputs": [],
   "source": [
    "# Droping columns that are not needed \n",
    "df = df.drop(['Price','Currency','Location','Standing_point'],axis = 1)"
   ]
  },
  {
   "cell_type": "code",
   "execution_count": 25,
   "id": "652bad72",
   "metadata": {},
   "outputs": [
    {
     "data": {
      "text/html": [
       "<div>\n",
       "<style scoped>\n",
       "    .dataframe tbody tr th:only-of-type {\n",
       "        vertical-align: middle;\n",
       "    }\n",
       "\n",
       "    .dataframe tbody tr th {\n",
       "        vertical-align: top;\n",
       "    }\n",
       "\n",
       "    .dataframe thead th {\n",
       "        text-align: right;\n",
       "    }\n",
       "</style>\n",
       "<table border=\"1\" class=\"dataframe\">\n",
       "  <thead>\n",
       "    <tr style=\"text-align: right;\">\n",
       "      <th></th>\n",
       "      <th>Boat Type</th>\n",
       "      <th>Manufacturer</th>\n",
       "      <th>Type</th>\n",
       "      <th>Year Built</th>\n",
       "      <th>Length</th>\n",
       "      <th>Width</th>\n",
       "      <th>Material</th>\n",
       "      <th>Number of views last 7 days</th>\n",
       "      <th>Country</th>\n",
       "      <th>City</th>\n",
       "      <th>USD_price</th>\n",
       "    </tr>\n",
       "  </thead>\n",
       "  <tbody>\n",
       "    <tr>\n",
       "      <th>0</th>\n",
       "      <td>Motor Yacht</td>\n",
       "      <td>Rigiflex power boats</td>\n",
       "      <td>new boat from stock</td>\n",
       "      <td>2017</td>\n",
       "      <td>4.00</td>\n",
       "      <td>1.90</td>\n",
       "      <td>NaN</td>\n",
       "      <td>226</td>\n",
       "      <td>Switzerland</td>\n",
       "      <td>Lake Geneva</td>\n",
       "      <td>3603.96</td>\n",
       "    </tr>\n",
       "    <tr>\n",
       "      <th>1</th>\n",
       "      <td>Center console boat</td>\n",
       "      <td>Terhi power boats</td>\n",
       "      <td>new boat from stock</td>\n",
       "      <td>2020</td>\n",
       "      <td>4.00</td>\n",
       "      <td>1.50</td>\n",
       "      <td>Thermoplastic</td>\n",
       "      <td>75</td>\n",
       "      <td>Germany</td>\n",
       "      <td>BÃ¶nningstedt</td>\n",
       "      <td>3699.40</td>\n",
       "    </tr>\n",
       "    <tr>\n",
       "      <th>2</th>\n",
       "      <td>Sport Boat</td>\n",
       "      <td>Marine power boats</td>\n",
       "      <td>new boat from stock</td>\n",
       "      <td>0</td>\n",
       "      <td>3.69</td>\n",
       "      <td>1.42</td>\n",
       "      <td>Aluminium</td>\n",
       "      <td>124</td>\n",
       "      <td>Switzerland</td>\n",
       "      <td>Lake of Zurich</td>\n",
       "      <td>4071.60</td>\n",
       "    </tr>\n",
       "    <tr>\n",
       "      <th>3</th>\n",
       "      <td>Sport Boat</td>\n",
       "      <td>Pioner power boats</td>\n",
       "      <td>new boat from stock</td>\n",
       "      <td>2020</td>\n",
       "      <td>3.00</td>\n",
       "      <td>1.00</td>\n",
       "      <td>NaN</td>\n",
       "      <td>64</td>\n",
       "      <td>Denmark</td>\n",
       "      <td>Svendborg</td>\n",
       "      <td>3626.00</td>\n",
       "    </tr>\n",
       "    <tr>\n",
       "      <th>4</th>\n",
       "      <td>Fishing Boat</td>\n",
       "      <td>Linder power boats</td>\n",
       "      <td>new boat from stock</td>\n",
       "      <td>2019</td>\n",
       "      <td>3.55</td>\n",
       "      <td>1.46</td>\n",
       "      <td>Aluminium</td>\n",
       "      <td>58</td>\n",
       "      <td>Germany</td>\n",
       "      <td>Bayern</td>\n",
       "      <td>3602.94</td>\n",
       "    </tr>\n",
       "  </tbody>\n",
       "</table>\n",
       "</div>"
      ],
      "text/plain": [
       "             Boat Type          Manufacturer                 Type  Year Built  \\\n",
       "0          Motor Yacht  Rigiflex power boats  new boat from stock        2017   \n",
       "1  Center console boat     Terhi power boats  new boat from stock        2020   \n",
       "2           Sport Boat    Marine power boats  new boat from stock           0   \n",
       "3           Sport Boat    Pioner power boats  new boat from stock        2020   \n",
       "4         Fishing Boat    Linder power boats  new boat from stock        2019   \n",
       "\n",
       "   Length  Width       Material  Number of views last 7 days       Country  \\\n",
       "0    4.00   1.90            NaN                          226  Switzerland    \n",
       "1    4.00   1.50  Thermoplastic                           75      Germany    \n",
       "2    3.69   1.42      Aluminium                          124  Switzerland    \n",
       "3    3.00   1.00            NaN                           64      Denmark    \n",
       "4    3.55   1.46      Aluminium                           58      Germany    \n",
       "\n",
       "               City  USD_price  \n",
       "0      Lake Geneva     3603.96  \n",
       "1     BÃ¶nningstedt    3699.40  \n",
       "2   Lake of Zurich     4071.60  \n",
       "3         Svendborg    3626.00  \n",
       "4           Bayern     3602.94  "
      ]
     },
     "execution_count": 25,
     "metadata": {},
     "output_type": "execute_result"
    }
   ],
   "source": [
    "df.head()"
   ]
  },
  {
   "cell_type": "markdown",
   "id": "8a318968",
   "metadata": {},
   "source": [
    "# Cleaning the Data"
   ]
  },
  {
   "cell_type": "code",
   "execution_count": 26,
   "id": "96e95285",
   "metadata": {},
   "outputs": [
    {
     "data": {
      "text/plain": [
       "Boat Type                         0\n",
       "Manufacturer                   1338\n",
       "Type                              6\n",
       "Year Built                        0\n",
       "Length                            9\n",
       "Width                            56\n",
       "Material                       1749\n",
       "Number of views last 7 days       0\n",
       "Country                          36\n",
       "City                            943\n",
       "USD_price                         0\n",
       "dtype: int64"
      ]
     },
     "execution_count": 26,
     "metadata": {},
     "output_type": "execute_result"
    }
   ],
   "source": [
    "# Check for missing values\n",
    "df.isnull().sum()"
   ]
  },
  {
   "cell_type": "code",
   "execution_count": 27,
   "id": "eec8650a",
   "metadata": {},
   "outputs": [],
   "source": [
    "# Using the median to fill in the Length and Width values\n",
    "df['Length'] = df['Length'].fillna(df['Length'].median())\n",
    "df['Width'] = df['Width'].fillna(df['Width'].median())"
   ]
  },
  {
   "cell_type": "code",
   "execution_count": 28,
   "id": "319647d8",
   "metadata": {},
   "outputs": [
    {
     "data": {
      "text/plain": [
       "Boat Type                         0\n",
       "Manufacturer                   1338\n",
       "Type                              6\n",
       "Year Built                        0\n",
       "Length                            0\n",
       "Width                             0\n",
       "Material                       1749\n",
       "Number of views last 7 days       0\n",
       "Country                          36\n",
       "City                            943\n",
       "USD_price                         0\n",
       "dtype: int64"
      ]
     },
     "execution_count": 28,
     "metadata": {},
     "output_type": "execute_result"
    }
   ],
   "source": [
    "# Check for missing values\n",
    "df.isnull().sum()"
   ]
  },
  {
   "cell_type": "code",
   "execution_count": 29,
   "id": "3051b84b",
   "metadata": {},
   "outputs": [],
   "source": [
    "# Drop the other missing values\n",
    "df_clean = df.dropna()"
   ]
  },
  {
   "cell_type": "code",
   "execution_count": 31,
   "id": "39008da9",
   "metadata": {},
   "outputs": [
    {
     "data": {
      "text/plain": [
       "(6394, 11)"
      ]
     },
     "execution_count": 31,
     "metadata": {},
     "output_type": "execute_result"
    }
   ],
   "source": [
    "# check the shape\n",
    "df_clean.shape"
   ]
  },
  {
   "cell_type": "code",
   "execution_count": 32,
   "id": "aefa6a3b",
   "metadata": {},
   "outputs": [
    {
     "data": {
      "text/plain": [
       "Boat Type                      0\n",
       "Manufacturer                   0\n",
       "Type                           0\n",
       "Year Built                     0\n",
       "Length                         0\n",
       "Width                          0\n",
       "Material                       0\n",
       "Number of views last 7 days    0\n",
       "Country                        0\n",
       "City                           0\n",
       "USD_price                      0\n",
       "dtype: int64"
      ]
     },
     "execution_count": 32,
     "metadata": {},
     "output_type": "execute_result"
    }
   ],
   "source": [
    "# Check for missing values\n",
    "df_clean.isnull().sum()"
   ]
  },
  {
   "cell_type": "code",
   "execution_count": 33,
   "id": "a0553f0b",
   "metadata": {},
   "outputs": [],
   "source": [
    "# Check for duplicates\n",
    "df_clean_dups = df_clean[df_clean.duplicated()]"
   ]
  },
  {
   "cell_type": "code",
   "execution_count": 34,
   "id": "1064b37a",
   "metadata": {},
   "outputs": [
    {
     "data": {
      "text/html": [
       "<div>\n",
       "<style scoped>\n",
       "    .dataframe tbody tr th:only-of-type {\n",
       "        vertical-align: middle;\n",
       "    }\n",
       "\n",
       "    .dataframe tbody tr th {\n",
       "        vertical-align: top;\n",
       "    }\n",
       "\n",
       "    .dataframe thead th {\n",
       "        text-align: right;\n",
       "    }\n",
       "</style>\n",
       "<table border=\"1\" class=\"dataframe\">\n",
       "  <thead>\n",
       "    <tr style=\"text-align: right;\">\n",
       "      <th></th>\n",
       "      <th>Boat Type</th>\n",
       "      <th>Manufacturer</th>\n",
       "      <th>Type</th>\n",
       "      <th>Year Built</th>\n",
       "      <th>Length</th>\n",
       "      <th>Width</th>\n",
       "      <th>Material</th>\n",
       "      <th>Number of views last 7 days</th>\n",
       "      <th>Country</th>\n",
       "      <th>City</th>\n",
       "      <th>USD_price</th>\n",
       "    </tr>\n",
       "  </thead>\n",
       "  <tbody>\n",
       "  </tbody>\n",
       "</table>\n",
       "</div>"
      ],
      "text/plain": [
       "Empty DataFrame\n",
       "Columns: [Boat Type, Manufacturer, Type, Year Built, Length, Width, Material, Number of views last 7 days, Country, City, USD_price]\n",
       "Index: []"
      ]
     },
     "execution_count": 34,
     "metadata": {},
     "output_type": "execute_result"
    }
   ],
   "source": [
    "df_clean_dups"
   ]
  },
  {
   "cell_type": "code",
   "execution_count": 35,
   "id": "9f2ebfbf",
   "metadata": {},
   "outputs": [
    {
     "data": {
      "text/html": [
       "<div>\n",
       "<style scoped>\n",
       "    .dataframe tbody tr th:only-of-type {\n",
       "        vertical-align: middle;\n",
       "    }\n",
       "\n",
       "    .dataframe tbody tr th {\n",
       "        vertical-align: top;\n",
       "    }\n",
       "\n",
       "    .dataframe thead th {\n",
       "        text-align: right;\n",
       "    }\n",
       "</style>\n",
       "<table border=\"1\" class=\"dataframe\">\n",
       "  <thead>\n",
       "    <tr style=\"text-align: right;\">\n",
       "      <th></th>\n",
       "      <th>Year Built</th>\n",
       "      <th>Length</th>\n",
       "      <th>Width</th>\n",
       "      <th>Number of views last 7 days</th>\n",
       "      <th>USD_price</th>\n",
       "    </tr>\n",
       "  </thead>\n",
       "  <tbody>\n",
       "    <tr>\n",
       "      <th>count</th>\n",
       "      <td>6394.000000</td>\n",
       "      <td>6394.000000</td>\n",
       "      <td>6394.000000</td>\n",
       "      <td>6394.000000</td>\n",
       "      <td>6.394000e+03</td>\n",
       "    </tr>\n",
       "    <tr>\n",
       "      <th>mean</th>\n",
       "      <td>1883.440413</td>\n",
       "      <td>10.670658</td>\n",
       "      <td>3.355988</td>\n",
       "      <td>163.303722</td>\n",
       "      <td>2.416208e+05</td>\n",
       "    </tr>\n",
       "    <tr>\n",
       "      <th>std</th>\n",
       "      <td>482.188034</td>\n",
       "      <td>4.812833</td>\n",
       "      <td>1.068479</td>\n",
       "      <td>167.676332</td>\n",
       "      <td>6.496076e+05</td>\n",
       "    </tr>\n",
       "    <tr>\n",
       "      <th>min</th>\n",
       "      <td>0.000000</td>\n",
       "      <td>1.980000</td>\n",
       "      <td>0.860000</td>\n",
       "      <td>15.000000</td>\n",
       "      <td>3.602940e+03</td>\n",
       "    </tr>\n",
       "    <tr>\n",
       "      <th>25%</th>\n",
       "      <td>1997.000000</td>\n",
       "      <td>7.200000</td>\n",
       "      <td>2.520000</td>\n",
       "      <td>73.000000</td>\n",
       "      <td>4.441400e+04</td>\n",
       "    </tr>\n",
       "    <tr>\n",
       "      <th>50%</th>\n",
       "      <td>2008.000000</td>\n",
       "      <td>9.640000</td>\n",
       "      <td>3.100000</td>\n",
       "      <td>115.000000</td>\n",
       "      <td>9.010000e+04</td>\n",
       "    </tr>\n",
       "    <tr>\n",
       "      <th>75%</th>\n",
       "      <td>2018.000000</td>\n",
       "      <td>13.060000</td>\n",
       "      <td>4.050000</td>\n",
       "      <td>191.000000</td>\n",
       "      <td>2.278950e+05</td>\n",
       "    </tr>\n",
       "    <tr>\n",
       "      <th>max</th>\n",
       "      <td>2021.000000</td>\n",
       "      <td>56.000000</td>\n",
       "      <td>16.000000</td>\n",
       "      <td>3263.000000</td>\n",
       "      <td>2.491000e+07</td>\n",
       "    </tr>\n",
       "  </tbody>\n",
       "</table>\n",
       "</div>"
      ],
      "text/plain": [
       "        Year Built       Length        Width  Number of views last 7 days  \\\n",
       "count  6394.000000  6394.000000  6394.000000                  6394.000000   \n",
       "mean   1883.440413    10.670658     3.355988                   163.303722   \n",
       "std     482.188034     4.812833     1.068479                   167.676332   \n",
       "min       0.000000     1.980000     0.860000                    15.000000   \n",
       "25%    1997.000000     7.200000     2.520000                    73.000000   \n",
       "50%    2008.000000     9.640000     3.100000                   115.000000   \n",
       "75%    2018.000000    13.060000     4.050000                   191.000000   \n",
       "max    2021.000000    56.000000    16.000000                  3263.000000   \n",
       "\n",
       "          USD_price  \n",
       "count  6.394000e+03  \n",
       "mean   2.416208e+05  \n",
       "std    6.496076e+05  \n",
       "min    3.602940e+03  \n",
       "25%    4.441400e+04  \n",
       "50%    9.010000e+04  \n",
       "75%    2.278950e+05  \n",
       "max    2.491000e+07  "
      ]
     },
     "execution_count": 35,
     "metadata": {},
     "output_type": "execute_result"
    }
   ],
   "source": [
    "# Check for statistics\n",
    "df_clean.describe()"
   ]
  },
  {
   "cell_type": "code",
   "execution_count": 36,
   "id": "a5e551a5",
   "metadata": {},
   "outputs": [],
   "source": [
    "# Drop the years with 0\n",
    "df_clean = df_clean[df_clean['Year Built']!=0]"
   ]
  },
  {
   "cell_type": "code",
   "execution_count": 37,
   "id": "b7c8303c",
   "metadata": {},
   "outputs": [
    {
     "data": {
      "text/html": [
       "<div>\n",
       "<style scoped>\n",
       "    .dataframe tbody tr th:only-of-type {\n",
       "        vertical-align: middle;\n",
       "    }\n",
       "\n",
       "    .dataframe tbody tr th {\n",
       "        vertical-align: top;\n",
       "    }\n",
       "\n",
       "    .dataframe thead th {\n",
       "        text-align: right;\n",
       "    }\n",
       "</style>\n",
       "<table border=\"1\" class=\"dataframe\">\n",
       "  <thead>\n",
       "    <tr style=\"text-align: right;\">\n",
       "      <th></th>\n",
       "      <th>Year Built</th>\n",
       "      <th>Length</th>\n",
       "      <th>Width</th>\n",
       "      <th>Number of views last 7 days</th>\n",
       "      <th>USD_price</th>\n",
       "    </tr>\n",
       "  </thead>\n",
       "  <tbody>\n",
       "    <tr>\n",
       "      <th>count</th>\n",
       "      <td>6001.000000</td>\n",
       "      <td>6001.000000</td>\n",
       "      <td>6001.000000</td>\n",
       "      <td>6001.00000</td>\n",
       "      <td>6.001000e+03</td>\n",
       "    </tr>\n",
       "    <tr>\n",
       "      <th>mean</th>\n",
       "      <td>2006.785202</td>\n",
       "      <td>10.834531</td>\n",
       "      <td>3.393046</td>\n",
       "      <td>165.18047</td>\n",
       "      <td>2.468251e+05</td>\n",
       "    </tr>\n",
       "    <tr>\n",
       "      <th>std</th>\n",
       "      <td>12.909093</td>\n",
       "      <td>4.847406</td>\n",
       "      <td>1.071161</td>\n",
       "      <td>171.31140</td>\n",
       "      <td>6.665805e+05</td>\n",
       "    </tr>\n",
       "    <tr>\n",
       "      <th>min</th>\n",
       "      <td>1901.000000</td>\n",
       "      <td>2.320000</td>\n",
       "      <td>0.860000</td>\n",
       "      <td>15.00000</td>\n",
       "      <td>3.602940e+03</td>\n",
       "    </tr>\n",
       "    <tr>\n",
       "      <th>25%</th>\n",
       "      <td>2000.000000</td>\n",
       "      <td>7.350000</td>\n",
       "      <td>2.540000</td>\n",
       "      <td>74.00000</td>\n",
       "      <td>4.547400e+04</td>\n",
       "    </tr>\n",
       "    <tr>\n",
       "      <th>50%</th>\n",
       "      <td>2008.000000</td>\n",
       "      <td>9.880000</td>\n",
       "      <td>3.200000</td>\n",
       "      <td>115.00000</td>\n",
       "      <td>9.222000e+04</td>\n",
       "    </tr>\n",
       "    <tr>\n",
       "      <th>75%</th>\n",
       "      <td>2018.000000</td>\n",
       "      <td>13.240000</td>\n",
       "      <td>4.100000</td>\n",
       "      <td>193.00000</td>\n",
       "      <td>2.310800e+05</td>\n",
       "    </tr>\n",
       "    <tr>\n",
       "      <th>max</th>\n",
       "      <td>2021.000000</td>\n",
       "      <td>56.000000</td>\n",
       "      <td>16.000000</td>\n",
       "      <td>3263.00000</td>\n",
       "      <td>2.491000e+07</td>\n",
       "    </tr>\n",
       "  </tbody>\n",
       "</table>\n",
       "</div>"
      ],
      "text/plain": [
       "        Year Built       Length        Width  Number of views last 7 days  \\\n",
       "count  6001.000000  6001.000000  6001.000000                   6001.00000   \n",
       "mean   2006.785202    10.834531     3.393046                    165.18047   \n",
       "std      12.909093     4.847406     1.071161                    171.31140   \n",
       "min    1901.000000     2.320000     0.860000                     15.00000   \n",
       "25%    2000.000000     7.350000     2.540000                     74.00000   \n",
       "50%    2008.000000     9.880000     3.200000                    115.00000   \n",
       "75%    2018.000000    13.240000     4.100000                    193.00000   \n",
       "max    2021.000000    56.000000    16.000000                   3263.00000   \n",
       "\n",
       "          USD_price  \n",
       "count  6.001000e+03  \n",
       "mean   2.468251e+05  \n",
       "std    6.665805e+05  \n",
       "min    3.602940e+03  \n",
       "25%    4.547400e+04  \n",
       "50%    9.222000e+04  \n",
       "75%    2.310800e+05  \n",
       "max    2.491000e+07  "
      ]
     },
     "execution_count": 37,
     "metadata": {},
     "output_type": "execute_result"
    }
   ],
   "source": [
    "df_clean.describe()"
   ]
  },
  {
   "cell_type": "code",
   "execution_count": 38,
   "id": "f3ea074f",
   "metadata": {},
   "outputs": [],
   "source": [
    "# Check for mixed data type\n",
    "for col in df_clean.columns.tolist():\n",
    "  weird = (df_clean[[col]].applymap(type) != df_clean[[col]].iloc[0].apply(type)).any(axis = 1)\n",
    "  if len (df_clean[weird]) > 0:\n",
    "    print (col)"
   ]
  },
  {
   "cell_type": "code",
   "execution_count": 51,
   "id": "627fac18",
   "metadata": {},
   "outputs": [
    {
     "data": {
      "text/plain": [
       "(6001, 11)"
      ]
     },
     "execution_count": 51,
     "metadata": {},
     "output_type": "execute_result"
    }
   ],
   "source": [
    "# Final check for clean data \n",
    "df_clean.shape"
   ]
  },
  {
   "cell_type": "markdown",
   "id": "ad6a5a3a",
   "metadata": {},
   "source": [
    "# Export clean Data"
   ]
  },
  {
   "cell_type": "code",
   "execution_count": 58,
   "id": "a272faf7",
   "metadata": {},
   "outputs": [],
   "source": [
    "df_clean.to_csv(os.path.join(path,'Boat_Orders_clean.csv'))"
   ]
  },
  {
   "cell_type": "code",
   "execution_count": null,
   "id": "4a368f82",
   "metadata": {},
   "outputs": [],
   "source": []
  }
 ],
 "metadata": {
  "kernelspec": {
   "display_name": "Python 3 (ipykernel)",
   "language": "python",
   "name": "python3"
  },
  "language_info": {
   "codemirror_mode": {
    "name": "ipython",
    "version": 3
   },
   "file_extension": ".py",
   "mimetype": "text/x-python",
   "name": "python",
   "nbconvert_exporter": "python",
   "pygments_lexer": "ipython3",
   "version": "3.9.12"
  }
 },
 "nbformat": 4,
 "nbformat_minor": 5
}
