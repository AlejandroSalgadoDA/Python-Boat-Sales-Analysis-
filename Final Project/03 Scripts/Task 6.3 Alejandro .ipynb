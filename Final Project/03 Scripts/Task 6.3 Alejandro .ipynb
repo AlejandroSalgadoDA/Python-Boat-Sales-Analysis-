{
 "cells": [
  {
   "cell_type": "markdown",
   "id": "e4d7017c",
   "metadata": {},
   "source": [
    "# Table of Contents \n",
    "## 1 Import Libraries\n",
    "## 2 Data Wrangling \n",
    "## 3 Data Cleaning \n",
    "## 4 Discussing the Results "
   ]
  },
  {
   "cell_type": "markdown",
   "id": "04a82781",
   "metadata": {},
   "source": [
    "# 1 Import Libraries "
   ]
  },
  {
   "cell_type": "code",
   "execution_count": null,
   "id": "ba1c3b0e",
   "metadata": {},
   "outputs": [],
   "source": [
    "import pandas as pd\n",
    "import numpy as np\n",
    "import seaborn as sns\n",
    "import matplotlib\n",
    "import os\n",
    "import folium\n",
    "import json"
   ]
  },
  {
   "cell_type": "code",
   "execution_count": null,
   "id": "bbdd81f4",
   "metadata": {},
   "outputs": [],
   "source": [
    "# This command propts matplotlib visuals to appear in the notebook \n",
    "\n",
    "%matplotlib inline"
   ]
  },
  {
   "cell_type": "code",
   "execution_count": null,
   "id": "9064665b",
   "metadata": {},
   "outputs": [],
   "source": [
    "# Import \".json\" file for the U.S. \n",
    "\n",
    "country_geo = r'/Users/alejandrosalgado/Desktop/Final Project/02 Data /Original Data /us-states.json'"
   ]
  },
  {
   "cell_type": "code",
   "execution_count": null,
   "id": "51aa9ab2",
   "metadata": {},
   "outputs": [],
   "source": [
    "# create a path\n",
    "path = r'/Users/alejandrosalgado/Desktop/Final Project'"
   ]
  },
  {
   "cell_type": "code",
   "execution_count": null,
   "id": "fd304faa",
   "metadata": {},
   "outputs": [],
   "source": [
    "# That's just in case you want to look at the JSON file contents here too:\n",
    "\n",
    "f = open(country_geo)\n",
    "  \n",
    "# returns JSON object asa dictionary\n",
    "data = json.load(f)\n",
    "  \n",
    "# Iterating through the json list\n",
    "for i in data['features']:\n",
    "    print(i)"
   ]
  },
  {
   "cell_type": "code",
   "execution_count": null,
   "id": "f8940f20",
   "metadata": {},
   "outputs": [],
   "source": [
    "# Load data\n",
    "df = pd.read_pickle(r'/Users/alejandrosalgado/Desktop/Final Project/Boat_Orders_clean_2.pkl')"
   ]
  },
  {
   "cell_type": "code",
   "execution_count": null,
   "id": "5641c459",
   "metadata": {},
   "outputs": [],
   "source": [
    "df.shape"
   ]
  },
  {
   "cell_type": "code",
   "execution_count": null,
   "id": "c16b374d",
   "metadata": {},
   "outputs": [],
   "source": [
    "df.head()"
   ]
  },
  {
   "cell_type": "markdown",
   "id": "0624e8ec",
   "metadata": {},
   "source": [
    "# 2 Data Wrangling "
   ]
  },
  {
   "cell_type": "code",
   "execution_count": null,
   "id": "c0d1f635",
   "metadata": {},
   "outputs": [],
   "source": [
    "# Create a new column for total view for each country\n",
    "\n",
    "df['Total_views'] = df.groupby(['Country'])['Number of views last 7 days'].transform(np.sum)"
   ]
  },
  {
   "cell_type": "code",
   "execution_count": null,
   "id": "993fe79a",
   "metadata": {},
   "outputs": [],
   "source": [
    "df"
   ]
  },
  {
   "cell_type": "code",
   "execution_count": null,
   "id": "3dbdca00",
   "metadata": {},
   "outputs": [],
   "source": [
    "# Subsetting the columns for the map\n",
    "view_map = df[['Country', 'Total_views']]"
   ]
  },
  {
   "cell_type": "code",
   "execution_count": null,
   "id": "5b557e85",
   "metadata": {},
   "outputs": [],
   "source": [
    "view_map.head()"
   ]
  },
  {
   "cell_type": "code",
   "execution_count": null,
   "id": "d1c4fe7d",
   "metadata": {},
   "outputs": [],
   "source": [
    "view_map.shape"
   ]
  },
  {
   "cell_type": "markdown",
   "id": "61aeb755",
   "metadata": {},
   "source": [
    "# 3 Data Cleaning "
   ]
  },
  {
   "cell_type": "code",
   "execution_count": null,
   "id": "0d6947bb",
   "metadata": {},
   "outputs": [],
   "source": [
    "# Checking subset for nulls\n",
    "view_map.isnull().sum()"
   ]
  },
  {
   "cell_type": "code",
   "execution_count": null,
   "id": "09dae630",
   "metadata": {},
   "outputs": [],
   "source": [
    "# The frequency of listing by countries\n",
    "view_map['Country'].value_counts(dropna = False)"
   ]
  },
  {
   "cell_type": "code",
   "execution_count": null,
   "id": "8c757f9c",
   "metadata": {},
   "outputs": [],
   "source": [
    "# Drop duplicate values\n",
    "view_map = view_map.drop_duplicates()"
   ]
  },
  {
   "cell_type": "code",
   "execution_count": null,
   "id": "e7ba6ab1",
   "metadata": {},
   "outputs": [],
   "source": [
    "view_map.shape"
   ]
  },
  {
   "cell_type": "code",
   "execution_count": null,
   "id": "34e5c319",
   "metadata": {},
   "outputs": [],
   "source": [
    "view_map.sort_values(by = 'Total_views', ascending=False)"
   ]
  },
  {
   "cell_type": "code",
   "execution_count": null,
   "id": "b4c35b3a",
   "metadata": {},
   "outputs": [],
   "source": [
    "# Setting up a map\n",
    "map = folium.Map(location = [100, 0], zoom_start = 1.5)\n",
    "\n",
    "\n",
    "folium.Choropleth(\n",
    "    geo_data = country_geo, \n",
    "    data = view_map,\n",
    "    columns = ['Country', 'Total_views'],\n",
    "    key_on = 'feature.properties.name', \n",
    "    fill_color = 'YlOrBr', fill_opacity=0.5, line_opacity=0.1,\n",
    "    legend_name = \"No of views\").add_to(map)\n",
    "folium.LayerControl().add_to(map)\n",
    "\n",
    "map"
   ]
  },
  {
   "cell_type": "markdown",
   "id": "49eeb5d3",
   "metadata": {},
   "source": [
    "# 4 Discussing the Results "
   ]
  },
  {
   "cell_type": "markdown",
   "id": "d9aba823",
   "metadata": {},
   "source": [
    "At this time I do not have a new research question.\n",
    "It did answer the most viewed boats which are Switzerland, Germany and Italy. "
   ]
  },
  {
   "cell_type": "code",
   "execution_count": null,
   "id": "23ac0d57",
   "metadata": {},
   "outputs": [],
   "source": [
    "map.save('plot_data.html')"
   ]
  },
  {
   "cell_type": "code",
   "execution_count": null,
   "id": "4a030547",
   "metadata": {},
   "outputs": [],
   "source": []
  }
 ],
 "metadata": {
  "kernelspec": {
   "display_name": "Python 3 (ipykernel)",
   "language": "python",
   "name": "python3"
  },
  "language_info": {
   "codemirror_mode": {
    "name": "ipython",
    "version": 3
   },
   "file_extension": ".py",
   "mimetype": "text/x-python",
   "name": "python",
   "nbconvert_exporter": "python",
   "pygments_lexer": "ipython3",
   "version": "3.9.12"
  }
 },
 "nbformat": 4,
 "nbformat_minor": 5
}
